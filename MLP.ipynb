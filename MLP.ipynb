{
 "cells": [
  {
   "cell_type": "markdown",
   "metadata": {},
   "source": [
    "# MNIST MLP models"
   ]
  },
  {
   "cell_type": "markdown",
   "metadata": {},
   "source": [
    "#### Import libraries"
   ]
  },
  {
   "cell_type": "code",
   "execution_count": 1,
   "metadata": {},
   "outputs": [],
   "source": [
    "import torch\n",
    "import torch.nn as nn\n",
    "import torch.nn.functional as F\n",
    "\n",
    "from torch.utils.data import DataLoader\n",
    "from torchvision import datasets as dt, transforms\n",
    "\n",
    "import helpers.NNUtils as nnu\n",
    "from models import MLP"
   ]
  },
  {
   "cell_type": "code",
   "execution_count": 2,
   "metadata": {},
   "outputs": [],
   "source": [
    "device = 'cuda' if torch.cuda.is_available() else 'cpu'\n",
    "torch.manual_seed(1976);"
   ]
  },
  {
   "cell_type": "markdown",
   "metadata": {},
   "source": [
    "#### Import data"
   ]
  },
  {
   "cell_type": "code",
   "execution_count": 3,
   "metadata": {},
   "outputs": [],
   "source": [
    "train_dataset, test_dataset, val_dataset = nnu.loadMNISTDatasets()\n",
    "train_loader, test_loader, val_loader = nnu.getMNISTLoaders([train_dataset, test_dataset, val_dataset],batch_size=10)"
   ]
  },
  {
   "cell_type": "markdown",
   "metadata": {},
   "source": [
    "#### Train and Validate MLP models"
   ]
  },
  {
   "cell_type": "code",
   "execution_count": 4,
   "metadata": {},
   "outputs": [],
   "source": [
    "model = MLP.MLPZero().to(device)\n",
    "optimizer = nnu.getSGDOptim(model, lr=0.05)\n",
    "loss_fn = F.cross_entropy"
   ]
  },
  {
   "cell_type": "code",
   "execution_count": 5,
   "metadata": {},
   "outputs": [
    {
     "name": "stdout",
     "output_type": "stream",
     "text": [
      "Train Epoch: 0 \tLoss: 0.246796 \tTest Loss: 1.805886\n",
      "Train Epoch: 1 \tLoss: 0.549740 \tTest Loss: 0.821152\n",
      "Train Epoch: 2 \tLoss: 0.486512 \tTest Loss: 0.524785\n",
      "Train Epoch: 3 \tLoss: 0.488692 \tTest Loss: 0.938117\n",
      "Train Epoch: 4 \tLoss: 0.467032 \tTest Loss: 0.233150\n"
     ]
    }
   ],
   "source": [
    "nnu.fit(5, model, loss_fn, optimizer, train_loader, test_loader)"
   ]
  },
  {
   "cell_type": "code",
   "execution_count": 6,
   "metadata": {},
   "outputs": [
    {
     "name": "stdout",
     "output_type": "stream",
     "text": [
      "\n",
      "Validation set: Avg. loss: 0.0721, Accuracy: 0.8265 (82.7%)\n",
      "\n"
     ]
    }
   ],
   "source": [
    "nnu.validate(model, loss_fn, val_loader)"
   ]
  },
  {
   "cell_type": "code",
   "execution_count": 7,
   "metadata": {},
   "outputs": [],
   "source": [
    "nnu.saveModel(model, \"MLPZero\")"
   ]
  },
  {
   "cell_type": "code",
   "execution_count": 7,
   "metadata": {},
   "outputs": [],
   "source": [
    "model = MLP.MLPOne().to(device)\n",
    "optimizer = nnu.getSGDOptim(model, lr=0.05)\n",
    "loss_fn = F.cross_entropy"
   ]
  },
  {
   "cell_type": "code",
   "execution_count": 8,
   "metadata": {
    "scrolled": true
   },
   "outputs": [
    {
     "name": "stdout",
     "output_type": "stream",
     "text": [
      "Train Epoch: 0 \tLoss: 0.007551 \tTest Loss: 0.184539\n",
      "Train Epoch: 1 \tLoss: 0.000705 \tTest Loss: 0.002977\n",
      "Train Epoch: 2 \tLoss: 0.040968 \tTest Loss: 0.001098\n",
      "Train Epoch: 3 \tLoss: 0.008995 \tTest Loss: 0.033220\n",
      "Train Epoch: 4 \tLoss: 0.004902 \tTest Loss: 0.030131\n"
     ]
    }
   ],
   "source": [
    "nnu.fit(5, model, loss_fn, optimizer, train_loader, test_loader)"
   ]
  },
  {
   "cell_type": "code",
   "execution_count": 9,
   "metadata": {
    "tags": []
   },
   "outputs": [
    {
     "name": "stdout",
     "output_type": "stream",
     "text": [
      "\n",
      "Validation set: Avg. loss: 0.0069, Accuracy: 0.9807 (98.1%)\n",
      "\n"
     ]
    }
   ],
   "source": [
    "nnu.validate(model, loss_fn, val_loader)"
   ]
  },
  {
   "cell_type": "code",
   "execution_count": 10,
   "metadata": {},
   "outputs": [
    {
     "data": {
      "text/plain": [
       "'ERROR: File [./models/MLPOne] already exists!'"
      ]
     },
     "execution_count": 10,
     "metadata": {},
     "output_type": "execute_result"
    }
   ],
   "source": [
    "nnu.saveModel(model, \"MLPOne\")"
   ]
  },
  {
   "cell_type": "code",
   "execution_count": 11,
   "metadata": {},
   "outputs": [],
   "source": [
    "model = MLP.MLPTwo().to(device)\n",
    "optimizer = nnu.getSGDOptim(model, lr=0.05)\n",
    "loss_fn = F.cross_entropy"
   ]
  },
  {
   "cell_type": "code",
   "execution_count": 12,
   "metadata": {},
   "outputs": [
    {
     "name": "stdout",
     "output_type": "stream",
     "text": [
      "Train Epoch: 0 \tLoss: 0.003138 \tTest Loss: 0.384565\n",
      "Train Epoch: 1 \tLoss: 0.052372 \tTest Loss: 0.000859\n",
      "Train Epoch: 2 \tLoss: 0.033159 \tTest Loss: 0.360157\n",
      "Train Epoch: 3 \tLoss: 0.000529 \tTest Loss: 0.000432\n",
      "Train Epoch: 4 \tLoss: 0.000071 \tTest Loss: 0.001945\n"
     ]
    }
   ],
   "source": [
    "nnu.fit(5, model, loss_fn, optimizer, train_loader, test_loader)"
   ]
  },
  {
   "cell_type": "code",
   "execution_count": 13,
   "metadata": {},
   "outputs": [
    {
     "name": "stdout",
     "output_type": "stream",
     "text": [
      "\n",
      "Validation set: Avg. loss: 0.0073, Accuracy: 0.9795 (98.0%)\n",
      "\n"
     ]
    }
   ],
   "source": [
    "nnu.validate(model, loss_fn, val_loader)"
   ]
  },
  {
   "cell_type": "code",
   "execution_count": 14,
   "metadata": {},
   "outputs": [
    {
     "data": {
      "text/plain": [
       "'ERROR: File [./models/MLPTwo] already exists!'"
      ]
     },
     "execution_count": 14,
     "metadata": {},
     "output_type": "execute_result"
    }
   ],
   "source": [
    "nnu.saveModel(model, \"MLPTwo\")"
   ]
  },
  {
   "cell_type": "code",
   "execution_count": null,
   "metadata": {},
   "outputs": [],
   "source": []
  }
 ],
 "metadata": {
  "kernelspec": {
   "display_name": "Python 3",
   "language": "python",
   "name": "python3"
  },
  "language_info": {
   "codemirror_mode": {
    "name": "ipython",
    "version": 3
   },
   "file_extension": ".py",
   "mimetype": "text/x-python",
   "name": "python",
   "nbconvert_exporter": "python",
   "pygments_lexer": "ipython3",
   "version": "3.8.5"
  }
 },
 "nbformat": 4,
 "nbformat_minor": 5
}
