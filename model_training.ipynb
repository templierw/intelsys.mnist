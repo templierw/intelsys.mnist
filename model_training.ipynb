{
 "cells": [
  {
   "cell_type": "markdown",
   "metadata": {},
   "source": [
    "# Train models with different parameters\n",
    "\n",
    "Models are defined in `models/MLP.py` and `models/CNN.py`"
   ]
  },
  {
   "cell_type": "code",
   "execution_count": 1,
   "metadata": {
    "scrolled": true
   },
   "outputs": [],
   "source": [
    "from collections import OrderedDict\n",
    "import torch.nn.functional as F\n",
    "import torch.utils.tensorboard as tensorboard\n",
    "\n",
    "from helpers.mnist_loader import loadMNISTDatasets, getMNISTLoaders\n",
    "from helpers.training_guider import TrainingGuider\n",
    "\n",
    "import models.MLP as MLPs\n",
    "import models.CNN as CNNs"
   ]
  },
  {
   "cell_type": "code",
   "execution_count": 2,
   "metadata": {
    "scrolled": true
   },
   "outputs": [],
   "source": [
    "train_dataset, val_dataset, hb_dataset = loadMNISTDatasets()"
   ]
  },
  {
   "cell_type": "markdown",
   "metadata": {},
   "source": [
    "#### Give the models you would like to train below"
   ]
  },
  {
   "cell_type": "code",
   "execution_count": 3,
   "metadata": {
    "scrolled": true
   },
   "outputs": [],
   "source": [
    "models = [MLPs.MLPTwo]"
   ]
  },
  {
   "cell_type": "markdown",
   "metadata": {},
   "source": [
    "#### Set the parameters to try below"
   ]
  },
  {
   "cell_type": "code",
   "execution_count": 4,
   "metadata": {
    "scrolled": true
   },
   "outputs": [],
   "source": [
    "params = OrderedDict(\n",
    "    model = models,\n",
    "    learning_rate = [0.07, 0.02],\n",
    "    batch_size = [64, 256],\n",
    "    optimizer = [\"sgd\"]\n",
    ")\n",
    "\n",
    "loss_fn = F.cross_entropy\n",
    "\n",
    "target_loss = 0.001"
   ]
  },
  {
   "cell_type": "markdown",
   "metadata": {},
   "source": [
    "#### Create trainer"
   ]
  },
  {
   "cell_type": "code",
   "execution_count": 5,
   "metadata": {
    "scrolled": true
   },
   "outputs": [],
   "source": [
    "training_name = \"two\""
   ]
  },
  {
   "cell_type": "code",
   "execution_count": 6,
   "metadata": {
    "scrolled": true
   },
   "outputs": [],
   "source": [
    "trainer = TrainingGuider(name=training_name, override_models=True)"
   ]
  },
  {
   "cell_type": "markdown",
   "metadata": {},
   "source": [
    "#### Train models"
   ]
  },
  {
   "cell_type": "code",
   "execution_count": 7,
   "metadata": {
    "scrolled": true,
    "tags": []
   },
   "outputs": [
    {
     "data": {
      "text/html": [
       "<div>\n",
       "<style scoped>\n",
       "    .dataframe tbody tr th:only-of-type {\n",
       "        vertical-align: middle;\n",
       "    }\n",
       "\n",
       "    .dataframe tbody tr th {\n",
       "        vertical-align: top;\n",
       "    }\n",
       "\n",
       "    .dataframe thead th {\n",
       "        text-align: right;\n",
       "    }\n",
       "</style>\n",
       "<table border=\"1\" class=\"dataframe\">\n",
       "  <thead>\n",
       "    <tr style=\"text-align: right;\">\n",
       "      <th></th>\n",
       "      <th>case</th>\n",
       "      <th>epoch</th>\n",
       "      <th>loss</th>\n",
       "      <th>val_loss</th>\n",
       "      <th>accuracy</th>\n",
       "      <th>val_accuracy</th>\n",
       "      <th>learning_rate</th>\n",
       "      <th>batch_size</th>\n",
       "      <th>optimizer</th>\n",
       "      <th>model</th>\n",
       "    </tr>\n",
       "  </thead>\n",
       "  <tbody>\n",
       "    <tr>\n",
       "      <th>0</th>\n",
       "      <td>1</td>\n",
       "      <td>1</td>\n",
       "      <td>0.4411</td>\n",
       "      <td>0.1820</td>\n",
       "      <td>0.8686</td>\n",
       "      <td>0.9447</td>\n",
       "      <td>0.07</td>\n",
       "      <td>64</td>\n",
       "      <td>sgd</td>\n",
       "      <td>MLPTwo</td>\n",
       "    </tr>\n",
       "    <tr>\n",
       "      <th>1</th>\n",
       "      <td>1</td>\n",
       "      <td>2</td>\n",
       "      <td>0.2879</td>\n",
       "      <td>0.1502</td>\n",
       "      <td>0.9141</td>\n",
       "      <td>0.9535</td>\n",
       "      <td>0.07</td>\n",
       "      <td>64</td>\n",
       "      <td>sgd</td>\n",
       "      <td>MLPTwo</td>\n",
       "    </tr>\n",
       "    <tr>\n",
       "      <th>2</th>\n",
       "      <td>1</td>\n",
       "      <td>3</td>\n",
       "      <td>0.2211</td>\n",
       "      <td>0.1318</td>\n",
       "      <td>0.9340</td>\n",
       "      <td>0.9589</td>\n",
       "      <td>0.07</td>\n",
       "      <td>64</td>\n",
       "      <td>sgd</td>\n",
       "      <td>MLPTwo</td>\n",
       "    </tr>\n",
       "    <tr>\n",
       "      <th>3</th>\n",
       "      <td>1</td>\n",
       "      <td>4</td>\n",
       "      <td>0.1816</td>\n",
       "      <td>0.1216</td>\n",
       "      <td>0.9459</td>\n",
       "      <td>0.9621</td>\n",
       "      <td>0.07</td>\n",
       "      <td>64</td>\n",
       "      <td>sgd</td>\n",
       "      <td>MLPTwo</td>\n",
       "    </tr>\n",
       "    <tr>\n",
       "      <th>4</th>\n",
       "      <td>1</td>\n",
       "      <td>5</td>\n",
       "      <td>0.1545</td>\n",
       "      <td>0.1133</td>\n",
       "      <td>0.9541</td>\n",
       "      <td>0.9648</td>\n",
       "      <td>0.07</td>\n",
       "      <td>64</td>\n",
       "      <td>sgd</td>\n",
       "      <td>MLPTwo</td>\n",
       "    </tr>\n",
       "    <tr>\n",
       "      <th>...</th>\n",
       "      <td>...</td>\n",
       "      <td>...</td>\n",
       "      <td>...</td>\n",
       "      <td>...</td>\n",
       "      <td>...</td>\n",
       "      <td>...</td>\n",
       "      <td>...</td>\n",
       "      <td>...</td>\n",
       "      <td>...</td>\n",
       "      <td>...</td>\n",
       "    </tr>\n",
       "    <tr>\n",
       "      <th>315</th>\n",
       "      <td>4</td>\n",
       "      <td>76</td>\n",
       "      <td>0.1067</td>\n",
       "      <td>0.1313</td>\n",
       "      <td>0.9720</td>\n",
       "      <td>0.9617</td>\n",
       "      <td>0.02</td>\n",
       "      <td>256</td>\n",
       "      <td>sgd</td>\n",
       "      <td>MLPTwo</td>\n",
       "    </tr>\n",
       "    <tr>\n",
       "      <th>316</th>\n",
       "      <td>4</td>\n",
       "      <td>77</td>\n",
       "      <td>0.1056</td>\n",
       "      <td>0.1307</td>\n",
       "      <td>0.9723</td>\n",
       "      <td>0.9619</td>\n",
       "      <td>0.02</td>\n",
       "      <td>256</td>\n",
       "      <td>sgd</td>\n",
       "      <td>MLPTwo</td>\n",
       "    </tr>\n",
       "    <tr>\n",
       "      <th>317</th>\n",
       "      <td>4</td>\n",
       "      <td>78</td>\n",
       "      <td>0.1044</td>\n",
       "      <td>0.1301</td>\n",
       "      <td>0.9726</td>\n",
       "      <td>0.9621</td>\n",
       "      <td>0.02</td>\n",
       "      <td>256</td>\n",
       "      <td>sgd</td>\n",
       "      <td>MLPTwo</td>\n",
       "    </tr>\n",
       "    <tr>\n",
       "      <th>318</th>\n",
       "      <td>4</td>\n",
       "      <td>79</td>\n",
       "      <td>0.1033</td>\n",
       "      <td>0.1295</td>\n",
       "      <td>0.9729</td>\n",
       "      <td>0.9622</td>\n",
       "      <td>0.02</td>\n",
       "      <td>256</td>\n",
       "      <td>sgd</td>\n",
       "      <td>MLPTwo</td>\n",
       "    </tr>\n",
       "    <tr>\n",
       "      <th>319</th>\n",
       "      <td>4</td>\n",
       "      <td>80</td>\n",
       "      <td>0.1022</td>\n",
       "      <td>0.1289</td>\n",
       "      <td>0.9733</td>\n",
       "      <td>0.9624</td>\n",
       "      <td>0.02</td>\n",
       "      <td>256</td>\n",
       "      <td>sgd</td>\n",
       "      <td>MLPTwo</td>\n",
       "    </tr>\n",
       "  </tbody>\n",
       "</table>\n",
       "<p>320 rows × 10 columns</p>\n",
       "</div>"
      ],
      "text/plain": [
       "     case  epoch    loss  val_loss  accuracy  val_accuracy  learning_rate  \\\n",
       "0       1      1  0.4411    0.1820    0.8686        0.9447           0.07   \n",
       "1       1      2  0.2879    0.1502    0.9141        0.9535           0.07   \n",
       "2       1      3  0.2211    0.1318    0.9340        0.9589           0.07   \n",
       "3       1      4  0.1816    0.1216    0.9459        0.9621           0.07   \n",
       "4       1      5  0.1545    0.1133    0.9541        0.9648           0.07   \n",
       "..    ...    ...     ...       ...       ...           ...            ...   \n",
       "315     4     76  0.1067    0.1313    0.9720        0.9617           0.02   \n",
       "316     4     77  0.1056    0.1307    0.9723        0.9619           0.02   \n",
       "317     4     78  0.1044    0.1301    0.9726        0.9621           0.02   \n",
       "318     4     79  0.1033    0.1295    0.9729        0.9622           0.02   \n",
       "319     4     80  0.1022    0.1289    0.9733        0.9624           0.02   \n",
       "\n",
       "     batch_size optimizer   model  \n",
       "0            64       sgd  MLPTwo  \n",
       "1            64       sgd  MLPTwo  \n",
       "2            64       sgd  MLPTwo  \n",
       "3            64       sgd  MLPTwo  \n",
       "4            64       sgd  MLPTwo  \n",
       "..          ...       ...     ...  \n",
       "315         256       sgd  MLPTwo  \n",
       "316         256       sgd  MLPTwo  \n",
       "317         256       sgd  MLPTwo  \n",
       "318         256       sgd  MLPTwo  \n",
       "319         256       sgd  MLPTwo  \n",
       "\n",
       "[320 rows x 10 columns]"
      ]
     },
     "metadata": {},
     "output_type": "display_data"
    }
   ],
   "source": [
    "trainer.run(80, params, loss_fn, target_loss, train_dataset, val_dataset)"
   ]
  },
  {
   "cell_type": "markdown",
   "metadata": {},
   "source": [
    "#### Visualize training progress with tensorboard (filter for training name on the bottom left)"
   ]
  },
  {
   "cell_type": "code",
   "execution_count": 8,
   "metadata": {
    "scrolled": true
   },
   "outputs": [
    {
     "data": {
      "text/html": [
       "\n",
       "      <iframe id=\"tensorboard-frame-f5a125ca908fad0e\" width=\"100%\" height=\"800\" frameborder=\"0\">\n",
       "      </iframe>\n",
       "      <script>\n",
       "        (function() {\n",
       "          const frame = document.getElementById(\"tensorboard-frame-f5a125ca908fad0e\");\n",
       "          const url = new URL(\"/\", window.location);\n",
       "          const port = 6007;\n",
       "          if (port) {\n",
       "            url.port = port;\n",
       "          }\n",
       "          frame.src = url;\n",
       "        })();\n",
       "      </script>\n",
       "    "
      ],
      "text/plain": [
       "<IPython.core.display.HTML object>"
      ]
     },
     "metadata": {},
     "output_type": "display_data"
    }
   ],
   "source": [
    "# Launcing tensorboard may take a few minutes (in case it times out, retry)\n",
    "\n",
    "%load_ext tensorboard\n",
    "%tensorboard --logdir f'runs/xp/{training_name}'\n",
    "%reload_ext tensorboard"
   ]
  },
  {
   "cell_type": "code",
   "execution_count": null,
   "metadata": {
    "scrolled": true
   },
   "outputs": [],
   "source": []
  }
 ],
 "metadata": {
  "kernelspec": {
   "display_name": "Python 3",
   "language": "python",
   "name": "python3"
  },
  "language_info": {
   "codemirror_mode": {
    "name": "ipython",
    "version": 3
   },
   "file_extension": ".py",
   "mimetype": "text/x-python",
   "name": "python",
   "nbconvert_exporter": "python",
   "pygments_lexer": "ipython3",
   "version": "3.8.8"
  }
 },
 "nbformat": 4,
 "nbformat_minor": 2
}
