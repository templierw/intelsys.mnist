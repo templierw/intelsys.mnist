{
 "cells": [
  {
   "cell_type": "markdown",
   "id": "upset-livestock",
   "metadata": {},
   "source": [
    "# MNIST MLP: first attempt"
   ]
  },
  {
   "cell_type": "code",
   "execution_count": 1,
   "id": "anonymous-halifax",
   "metadata": {},
   "outputs": [],
   "source": [
    "from torchvision import datasets as dt, transforms\n",
    "from torch.utils.data import DataLoader\n",
    "\n",
    "transform = transforms.Compose(\n",
    "    [transforms.ToTensor(),\n",
    "     transforms.Normalize((0.1307,), (0.3081,))])\n",
    "\n",
    "trainset = dt.MNIST(root='./dataset', train=True,\n",
    "                    download=True, transform=transform)\n",
    "\n",
    "trainloader = DataLoader(trainset, batch_size=6,\n",
    "                        shuffle=True, num_workers=2)\n",
    "\n",
    "testset = dt.MNIST(root='./dataset', train=False,\n",
    "                   download=True, transform=transform)\n",
    "\n",
    "testloader = DataLoader(testset, batch_size=6,\n",
    "                        shuffle=False, num_workers=2)"
   ]
  },
  {
   "cell_type": "code",
   "execution_count": 2,
   "id": "improving-agency",
   "metadata": {},
   "outputs": [],
   "source": [
    "from torch import nn\n",
    "import torch.nn.functional as F\n",
    "\n",
    "class MLPOne(nn.Module):\n",
    "    def __init__(self):\n",
    "        super(MLPOne, self).__init__()\n",
    "        self.fc1 = nn.Linear(784, 512)\n",
    "        self.fc2 = nn.Linear(512, 512)\n",
    "        self.fc3 = nn.Linear(512, 198)\n",
    "        self.fc4 = nn.Linear(198, 10)\n",
    "        self.dropout = nn.Dropout(0.1)\n",
    "\n",
    "    def forward(self, x):\n",
    "        x = x.view(-1,28*28)\n",
    "        x = F.relu(self.fc1(x))\n",
    "        x = self.dropout(x)\n",
    "        x = F.relu(self.fc2(x))\n",
    "        x = self.dropout(x)\n",
    "        x = F.relu(self.fc3(x))\n",
    "        x = self.dropout(x)\n",
    "        x = F.relu(self.fc4(x))\n",
    "        \n",
    "        return x"
   ]
  },
  {
   "cell_type": "code",
   "execution_count": 3,
   "id": "southern-appeal",
   "metadata": {},
   "outputs": [],
   "source": [
    "import NNUtils as nu\n",
    "\n",
    "model = MLPOne()\n",
    "opt = nu.getSGDOptim(model, lr=0.05)\n",
    "loss_func = F.cross_entropy"
   ]
  },
  {
   "cell_type": "code",
   "execution_count": 4,
   "id": "cellular-species",
   "metadata": {
    "scrolled": true
   },
   "outputs": [
    {
     "name": "stdout",
     "output_type": "stream",
     "text": [
      "Train Epoch: 0 [0%] \tLoss: 2.299585\n",
      "Train Epoch: 0 [10%] \tLoss: 0.692778\n",
      "Train Epoch: 0 [20%] \tLoss: 0.003409\n",
      "Train Epoch: 0 [30%] \tLoss: 0.736600\n",
      "Train Epoch: 0 [40%] \tLoss: 0.038324\n",
      "Train Epoch: 0 [50%] \tLoss: 0.037893\n",
      "Train Epoch: 0 [60%] \tLoss: 0.000633\n",
      "Train Epoch: 0 [70%] \tLoss: 0.033802\n",
      "Train Epoch: 0 [80%] \tLoss: 0.000960\n",
      "Train Epoch: 0 [90%] \tLoss: 0.019896\n",
      "Train Epoch: 1 [0%] \tLoss: 0.024110\n",
      "Train Epoch: 1 [10%] \tLoss: 0.279905\n",
      "Train Epoch: 1 [20%] \tLoss: 0.033256\n",
      "Train Epoch: 1 [30%] \tLoss: 0.004361\n",
      "Train Epoch: 1 [40%] \tLoss: 0.077280\n",
      "Train Epoch: 1 [50%] \tLoss: 1.572052\n",
      "Train Epoch: 1 [60%] \tLoss: 0.005494\n",
      "Train Epoch: 1 [70%] \tLoss: 0.060382\n",
      "Train Epoch: 1 [80%] \tLoss: 0.054033\n",
      "Train Epoch: 1 [90%] \tLoss: 0.003362\n"
     ]
    }
   ],
   "source": [
    "nu.fit(2, model, loss_func, opt, trainloader)"
   ]
  },
  {
   "cell_type": "code",
   "execution_count": 5,
   "id": "intensive-johns",
   "metadata": {},
   "outputs": [
    {
     "name": "stdout",
     "output_type": "stream",
     "text": [
      "\n",
      "Test set: Avg. loss: 0.0175, Accuracy: 9660/10000         (97%)\n",
      "\n"
     ]
    }
   ],
   "source": [
    "nu.test(model, loss_func, testloader)"
   ]
  }
 ],
 "metadata": {
  "kernelspec": {
   "display_name": "Python 3",
   "language": "python",
   "name": "python3"
  },
  "language_info": {
   "codemirror_mode": {
    "name": "ipython",
    "version": 3
   },
   "file_extension": ".py",
   "mimetype": "text/x-python",
   "name": "python",
   "nbconvert_exporter": "python",
   "pygments_lexer": "ipython3",
   "version": "3.8.8"
  }
 },
 "nbformat": 4,
 "nbformat_minor": 5
}
