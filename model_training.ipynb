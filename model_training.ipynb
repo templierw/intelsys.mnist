{
 "cells": [
  {
   "cell_type": "markdown",
   "metadata": {},
   "source": [
    "# Train models with different parameters\n",
    "\n",
    "Models are defined in `models/MLP.py` and `models/CNN.py`"
   ]
  },
  {
   "cell_type": "code",
   "execution_count": 1,
   "metadata": {},
   "outputs": [],
   "source": [
    "from collections import OrderedDict\n",
    "import torch.nn.functional as F\n",
    "\n",
    "from helpers.mnist_loader import loadMNISTDatasets, getMNISTLoaders\n",
    "from helpers.training_guider import TrainingGuider\n",
    "\n",
    "import models.MLP as MLPs\n",
    "import models.CNN as CNNs"
   ]
  },
  {
   "cell_type": "code",
   "execution_count": 2,
   "metadata": {},
   "outputs": [],
   "source": [
    "train_dataset, val_dataset, hb_dataset = loadMNISTDatasets()"
   ]
  },
  {
   "cell_type": "markdown",
   "metadata": {},
   "source": [
    "#### Give the models you would like to train below"
   ]
  },
  {
   "cell_type": "code",
   "execution_count": 3,
   "metadata": {},
   "outputs": [],
   "source": [
    "models = [MLPs.MLPZero, MLPs.MLPZeroReLu]"
   ]
  },
  {
   "cell_type": "markdown",
   "metadata": {},
   "source": [
    "#### Set the parameters to try below"
   ]
  },
  {
   "cell_type": "code",
   "execution_count": 4,
   "metadata": {},
   "outputs": [],
   "source": [
    "params = OrderedDict(\n",
    "    model = models,\n",
    "    learning_rate = [0.05],\n",
    "    batch_size = [128],\n",
    "    optimizer = [\"sgd\"]\n",
    ")\n",
    "\n",
    "loss_fn = F.cross_entropy\n",
    "\n",
    "target_loss = 0.001"
   ]
  },
  {
   "cell_type": "markdown",
   "metadata": {},
   "source": [
    "#### Create trainer"
   ]
  },
  {
   "cell_type": "code",
   "execution_count": 5,
   "metadata": {},
   "outputs": [],
   "source": [
    "tariner = TrainingGuider(name=\"zero_aR_128l005\", override_models=True)"
   ]
  },
  {
   "cell_type": "markdown",
   "metadata": {},
   "source": [
    "#### Train models"
   ]
  },
  {
   "cell_type": "code",
   "execution_count": null,
   "metadata": {
    "tags": []
   },
   "outputs": [
    {
     "data": {
      "text/html": [
       "<div>\n",
       "<style scoped>\n",
       "    .dataframe tbody tr th:only-of-type {\n",
       "        vertical-align: middle;\n",
       "    }\n",
       "\n",
       "    .dataframe tbody tr th {\n",
       "        vertical-align: top;\n",
       "    }\n",
       "\n",
       "    .dataframe thead th {\n",
       "        text-align: right;\n",
       "    }\n",
       "</style>\n",
       "<table border=\"1\" class=\"dataframe\">\n",
       "  <thead>\n",
       "    <tr style=\"text-align: right;\">\n",
       "      <th></th>\n",
       "      <th>case</th>\n",
       "      <th>epoch</th>\n",
       "      <th>loss</th>\n",
       "      <th>val_loss</th>\n",
       "      <th>accuracy</th>\n",
       "      <th>val_accuracy</th>\n",
       "      <th>learning_rate</th>\n",
       "      <th>batch_size</th>\n",
       "      <th>optimizer</th>\n",
       "      <th>model</th>\n",
       "    </tr>\n",
       "  </thead>\n",
       "  <tbody>\n",
       "    <tr>\n",
       "      <th>0</th>\n",
       "      <td>1</td>\n",
       "      <td>1</td>\n",
       "      <td>0.4088</td>\n",
       "      <td>0.3333</td>\n",
       "      <td>0.8850</td>\n",
       "      <td>0.9015</td>\n",
       "      <td>0.05</td>\n",
       "      <td>128</td>\n",
       "      <td>sgd</td>\n",
       "      <td>MLPZero</td>\n",
       "    </tr>\n",
       "    <tr>\n",
       "      <th>1</th>\n",
       "      <td>1</td>\n",
       "      <td>2</td>\n",
       "      <td>0.3594</td>\n",
       "      <td>0.3236</td>\n",
       "      <td>0.8981</td>\n",
       "      <td>0.9066</td>\n",
       "      <td>0.05</td>\n",
       "      <td>128</td>\n",
       "      <td>sgd</td>\n",
       "      <td>MLPZero</td>\n",
       "    </tr>\n",
       "    <tr>\n",
       "      <th>2</th>\n",
       "      <td>1</td>\n",
       "      <td>3</td>\n",
       "      <td>0.3375</td>\n",
       "      <td>0.3179</td>\n",
       "      <td>0.9042</td>\n",
       "      <td>0.9088</td>\n",
       "      <td>0.05</td>\n",
       "      <td>128</td>\n",
       "      <td>sgd</td>\n",
       "      <td>MLPZero</td>\n",
       "    </tr>\n",
       "    <tr>\n",
       "      <th>3</th>\n",
       "      <td>1</td>\n",
       "      <td>4</td>\n",
       "      <td>0.3242</td>\n",
       "      <td>0.3150</td>\n",
       "      <td>0.9080</td>\n",
       "      <td>0.9103</td>\n",
       "      <td>0.05</td>\n",
       "      <td>128</td>\n",
       "      <td>sgd</td>\n",
       "      <td>MLPZero</td>\n",
       "    </tr>\n",
       "    <tr>\n",
       "      <th>4</th>\n",
       "      <td>1</td>\n",
       "      <td>5</td>\n",
       "      <td>0.3150</td>\n",
       "      <td>0.3131</td>\n",
       "      <td>0.9107</td>\n",
       "      <td>0.9114</td>\n",
       "      <td>0.05</td>\n",
       "      <td>128</td>\n",
       "      <td>sgd</td>\n",
       "      <td>MLPZero</td>\n",
       "    </tr>\n",
       "    <tr>\n",
       "      <th>...</th>\n",
       "      <td>...</td>\n",
       "      <td>...</td>\n",
       "      <td>...</td>\n",
       "      <td>...</td>\n",
       "      <td>...</td>\n",
       "      <td>...</td>\n",
       "      <td>...</td>\n",
       "      <td>...</td>\n",
       "      <td>...</td>\n",
       "      <td>...</td>\n",
       "    </tr>\n",
       "    <tr>\n",
       "      <th>140</th>\n",
       "      <td>2</td>\n",
       "      <td>61</td>\n",
       "      <td>0.2394</td>\n",
       "      <td>0.2914</td>\n",
       "      <td>0.9320</td>\n",
       "      <td>0.9210</td>\n",
       "      <td>0.05</td>\n",
       "      <td>128</td>\n",
       "      <td>sgd</td>\n",
       "      <td>MLPZeroReLu</td>\n",
       "    </tr>\n",
       "    <tr>\n",
       "      <th>141</th>\n",
       "      <td>2</td>\n",
       "      <td>62</td>\n",
       "      <td>0.2390</td>\n",
       "      <td>0.2914</td>\n",
       "      <td>0.9321</td>\n",
       "      <td>0.9211</td>\n",
       "      <td>0.05</td>\n",
       "      <td>128</td>\n",
       "      <td>sgd</td>\n",
       "      <td>MLPZeroReLu</td>\n",
       "    </tr>\n",
       "    <tr>\n",
       "      <th>142</th>\n",
       "      <td>2</td>\n",
       "      <td>63</td>\n",
       "      <td>0.2387</td>\n",
       "      <td>0.2913</td>\n",
       "      <td>0.9322</td>\n",
       "      <td>0.9211</td>\n",
       "      <td>0.05</td>\n",
       "      <td>128</td>\n",
       "      <td>sgd</td>\n",
       "      <td>MLPZeroReLu</td>\n",
       "    </tr>\n",
       "    <tr>\n",
       "      <th>143</th>\n",
       "      <td>2</td>\n",
       "      <td>64</td>\n",
       "      <td>0.2383</td>\n",
       "      <td>0.2913</td>\n",
       "      <td>0.9323</td>\n",
       "      <td>0.9211</td>\n",
       "      <td>0.05</td>\n",
       "      <td>128</td>\n",
       "      <td>sgd</td>\n",
       "      <td>MLPZeroReLu</td>\n",
       "    </tr>\n",
       "    <tr>\n",
       "      <th>144</th>\n",
       "      <td>2</td>\n",
       "      <td>65</td>\n",
       "      <td>0.2380</td>\n",
       "      <td>0.2914</td>\n",
       "      <td>0.9324</td>\n",
       "      <td>0.9211</td>\n",
       "      <td>0.05</td>\n",
       "      <td>128</td>\n",
       "      <td>sgd</td>\n",
       "      <td>MLPZeroReLu</td>\n",
       "    </tr>\n",
       "  </tbody>\n",
       "</table>\n",
       "<p>145 rows × 10 columns</p>\n",
       "</div>"
      ],
      "text/plain": [
       "     case  epoch    loss  val_loss  accuracy  val_accuracy  learning_rate  \\\n",
       "0       1      1  0.4088    0.3333    0.8850        0.9015           0.05   \n",
       "1       1      2  0.3594    0.3236    0.8981        0.9066           0.05   \n",
       "2       1      3  0.3375    0.3179    0.9042        0.9088           0.05   \n",
       "3       1      4  0.3242    0.3150    0.9080        0.9103           0.05   \n",
       "4       1      5  0.3150    0.3131    0.9107        0.9114           0.05   \n",
       "..    ...    ...     ...       ...       ...           ...            ...   \n",
       "140     2     61  0.2394    0.2914    0.9320        0.9210           0.05   \n",
       "141     2     62  0.2390    0.2914    0.9321        0.9211           0.05   \n",
       "142     2     63  0.2387    0.2913    0.9322        0.9211           0.05   \n",
       "143     2     64  0.2383    0.2913    0.9323        0.9211           0.05   \n",
       "144     2     65  0.2380    0.2914    0.9324        0.9211           0.05   \n",
       "\n",
       "     batch_size optimizer        model  \n",
       "0           128       sgd      MLPZero  \n",
       "1           128       sgd      MLPZero  \n",
       "2           128       sgd      MLPZero  \n",
       "3           128       sgd      MLPZero  \n",
       "4           128       sgd      MLPZero  \n",
       "..          ...       ...          ...  \n",
       "140         128       sgd  MLPZeroReLu  \n",
       "141         128       sgd  MLPZeroReLu  \n",
       "142         128       sgd  MLPZeroReLu  \n",
       "143         128       sgd  MLPZeroReLu  \n",
       "144         128       sgd  MLPZeroReLu  \n",
       "\n",
       "[145 rows x 10 columns]"
      ]
     },
     "metadata": {},
     "output_type": "display_data"
    }
   ],
   "source": [
    "tariner.run(80, params, loss_fn, target_loss, train_dataset, val_dataset)"
   ]
  },
  {
   "cell_type": "code",
   "execution_count": null,
   "metadata": {},
   "outputs": [],
   "source": []
  }
 ],
 "metadata": {
  "kernelspec": {
   "display_name": "Python 3",
   "language": "python",
   "name": "python3"
  },
  "language_info": {
   "codemirror_mode": {
    "name": "ipython",
    "version": 3
   },
   "file_extension": ".py",
   "mimetype": "text/x-python",
   "name": "python",
   "nbconvert_exporter": "python",
   "pygments_lexer": "ipython3",
   "version": "3.8.8"
  }
 },
 "nbformat": 4,
 "nbformat_minor": 2
}
