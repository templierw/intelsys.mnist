{
 "cells": [
  {
   "cell_type": "markdown",
   "metadata": {},
   "source": [
    "# MNIST MLP models"
   ]
  },
  {
   "cell_type": "markdown",
   "metadata": {},
   "source": [
    "#### Import libraries"
   ]
  },
  {
   "cell_type": "code",
   "execution_count": 1,
   "metadata": {},
   "outputs": [],
   "source": [
    "import torch\n",
    "import torch.nn as nn\n",
    "import torch.nn.functional as F\n",
    "\n",
    "from torch.utils.data import DataLoader\n",
    "from torchvision import datasets as dt, transforms\n",
    "\n",
    "import helpers.NNUtils as nnu\n",
    "from models import MLP"
   ]
  },
  {
   "cell_type": "code",
   "execution_count": 2,
   "metadata": {},
   "outputs": [],
   "source": [
    "device = 'cuda' if torch.cuda.is_available() else 'cpu'\n",
    "torch.manual_seed(1976);"
   ]
  },
  {
   "cell_type": "markdown",
   "metadata": {},
   "source": [
    "#### Import data"
   ]
  },
  {
   "cell_type": "code",
   "execution_count": 3,
   "metadata": {},
   "outputs": [],
   "source": [
    "train_dataset, test_dataset, val_dataset = nnu.loadMNISTDatasets()\n",
    "train_loader, test_loader, val_loader = nnu.getMNISTLoaders([train_dataset, test_dataset, val_dataset],batch_size=10)"
   ]
  },
  {
   "cell_type": "markdown",
   "metadata": {},
   "source": [
    "#### Train and Validate MLP models"
   ]
  },
  {
   "cell_type": "code",
   "execution_count": 4,
   "metadata": {},
   "outputs": [],
   "source": [
    "model = MLP.MLPZero().to(device)\n",
    "optimizer = nnu.getSGDOptim(model, lr=0.05)\n",
    "loss_fn = F.cross_entropy"
   ]
  },
  {
   "cell_type": "code",
   "execution_count": 5,
   "metadata": {},
   "outputs": [
    {
     "name": "stdout",
     "output_type": "stream",
     "text": [
      "Train Epoch: 0 \tLoss: 0.268803 \tTest Loss: 0.618865\n",
      "Train Epoch: 1 \tLoss: 0.046485 \tTest Loss: 0.130542\n",
      "Train Epoch: 2 \tLoss: 0.287363 \tTest Loss: 0.062717\n",
      "Train Epoch: 3 \tLoss: 0.043573 \tTest Loss: 0.004338\n",
      "Train Epoch: 4 \tLoss: 0.459286 \tTest Loss: 0.088498\n",
      "Train Epoch: 5 \tLoss: 0.004349 \tTest Loss: 0.404898\n",
      "Train Epoch: 6 \tLoss: 0.588050 \tTest Loss: 0.006360\n",
      "Train Epoch: 7 \tLoss: 0.628203 \tTest Loss: 1.319385\n",
      "Train Epoch: 8 \tLoss: 0.030399 \tTest Loss: 0.654581\n",
      "Train Epoch: 9 \tLoss: 0.004367 \tTest Loss: 0.934344\n"
     ]
    }
   ],
   "source": [
    "nnu.fit(10, model, loss_fn, optimizer, train_loader, test_loader, 0.001)"
   ]
  },
  {
   "cell_type": "code",
   "execution_count": 6,
   "metadata": {},
   "outputs": [
    {
     "name": "stdout",
     "output_type": "stream",
     "text": [
      "\n",
      "Validation set: Avg. loss: 0.0434, Accuracy: 0.9097 (91.0%)\n",
      "\n"
     ]
    }
   ],
   "source": [
    "nnu.validate(model, loss_fn, val_loader)"
   ]
  },
  {
   "cell_type": "code",
   "execution_count": 7,
   "metadata": {},
   "outputs": [],
   "source": [
    "nnu.saveModel(model, \"MLPZero\")"
   ]
  },
  {
   "cell_type": "code",
   "execution_count": 8,
   "metadata": {},
   "outputs": [],
   "source": [
    "model = MLP.MLPOne().to(device)\n",
    "optimizer = nnu.getSGDOptim(model, lr=0.05)\n",
    "loss_fn = F.cross_entropy"
   ]
  },
  {
   "cell_type": "code",
   "execution_count": 9,
   "metadata": {
    "scrolled": true
   },
   "outputs": [
    {
     "name": "stdout",
     "output_type": "stream",
     "text": [
      "Train Epoch: 0 \tLoss: 0.001406 \tTest Loss: 0.014027\n",
      "Train Epoch: 1 \tLoss: 0.013472 \tTest Loss: 0.052837\n",
      "Train Epoch: 2 \tLoss: 0.048124 \tTest Loss: 0.032437\n",
      "Train Epoch: 3 \tLoss: 0.000300 \tTest Loss: 0.026251\n",
      "Train Epoch: 4 \tLoss: 0.031635 \tTest Loss: 0.000412\n"
     ]
    }
   ],
   "source": [
    "nnu.fit(10, model, loss_fn, optimizer, train_loader, test_loader, 0.001)"
   ]
  },
  {
   "cell_type": "code",
   "execution_count": 10,
   "metadata": {
    "tags": []
   },
   "outputs": [
    {
     "name": "stdout",
     "output_type": "stream",
     "text": [
      "\n",
      "Validation set: Avg. loss: 0.0083, Accuracy: 0.9766 (97.7%)\n",
      "\n"
     ]
    }
   ],
   "source": [
    "nnu.validate(model, loss_fn, val_loader)"
   ]
  },
  {
   "cell_type": "code",
   "execution_count": 11,
   "metadata": {},
   "outputs": [],
   "source": [
    "nnu.saveModel(model, \"MLPOne\")"
   ]
  },
  {
   "cell_type": "code",
   "execution_count": 12,
   "metadata": {},
   "outputs": [],
   "source": [
    "model = MLP.MLPTwo().to(device)\n",
    "optimizer = nnu.getSGDOptim(model, lr=0.05)\n",
    "loss_fn = F.cross_entropy"
   ]
  },
  {
   "cell_type": "code",
   "execution_count": 13,
   "metadata": {},
   "outputs": [
    {
     "name": "stdout",
     "output_type": "stream",
     "text": [
      "Train Epoch: 0 \tLoss: 0.076637 \tTest Loss: 0.098664\n",
      "Train Epoch: 1 \tLoss: 0.313596 \tTest Loss: 0.043983\n",
      "Train Epoch: 2 \tLoss: 0.241329 \tTest Loss: 0.000655\n"
     ]
    }
   ],
   "source": [
    "nnu.fit(5, model, loss_fn, optimizer, train_loader, test_loader, 0.001)"
   ]
  },
  {
   "cell_type": "code",
   "execution_count": 14,
   "metadata": {},
   "outputs": [
    {
     "name": "stdout",
     "output_type": "stream",
     "text": [
      "\n",
      "Validation set: Avg. loss: 0.0086, Accuracy: 0.9741 (97.4%)\n",
      "\n"
     ]
    }
   ],
   "source": [
    "nnu.validate(model, loss_fn, val_loader)"
   ]
  },
  {
   "cell_type": "code",
   "execution_count": 15,
   "metadata": {},
   "outputs": [],
   "source": [
    "nnu.saveModel(model, \"MLPTwo\")"
   ]
  },
  {
   "cell_type": "code",
   "execution_count": null,
   "metadata": {},
   "outputs": [],
   "source": []
  }
 ],
 "metadata": {
  "kernelspec": {
   "display_name": "Python 3",
   "language": "python",
   "name": "python3"
  },
  "language_info": {
   "codemirror_mode": {
    "name": "ipython",
    "version": 3
   },
   "file_extension": ".py",
   "mimetype": "text/x-python",
   "name": "python",
   "nbconvert_exporter": "python",
   "pygments_lexer": "ipython3",
   "version": "3.8.5"
  }
 },
 "nbformat": 4,
 "nbformat_minor": 5
}
