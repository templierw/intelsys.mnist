{
 "metadata": {
  "language_info": {
   "codemirror_mode": {
    "name": "ipython",
    "version": 3
   },
   "file_extension": ".py",
   "mimetype": "text/x-python",
   "name": "python",
   "nbconvert_exporter": "python",
   "pygments_lexer": "ipython3",
   "version": "3.8.5-final"
  },
  "orig_nbformat": 2,
  "kernelspec": {
   "name": "python3",
   "display_name": "Python 3.8.5 64-bit",
   "metadata": {
    "interpreter": {
     "hash": "31f2aee4e71d21fbe5cf8b01ff0e069b9275f58929596ceb00d14d90e3e16cd6"
    }
   }
  }
 },
 "nbformat": 4,
 "nbformat_minor": 2,
 "cells": [
  {
   "source": [
    "# Models testing\n",
    "\n",
    "Models are defined in `Models.py`\n",
    "\n",
    "They must be specified by a \"string\" name, which corresponds to the actual Class' name\n",
    "\n",
    "```\n",
    "\"MLPOne\" --> Models.MLPOne\n",
    "```"
   ],
   "cell_type": "markdown",
   "metadata": {}
  },
  {
   "cell_type": "code",
   "execution_count": 1,
   "metadata": {},
   "outputs": [
    {
     "output_type": "stream",
     "name": "stderr",
     "text": [
      "/home/william/.local/lib/python3.8/site-packages/torch/cuda/__init__.py:52: UserWarning: CUDA initialization: Found no NVIDIA driver on your system. Please check that you have an NVIDIA GPU and installed a driver from http://www.nvidia.com/Download/index.aspx (Triggered internally at  /pytorch/c10/cuda/CUDAFunctions.cpp:100.)\n  return torch._C._cuda_getDeviceCount() > 0\n"
     ]
    }
   ],
   "source": [
    "import torch\n",
    "import helpers.NNUtils as nnu\n",
    "from collections import OrderedDict\n",
    "from helpers.run import RunManager\n",
    "import torch.nn.functional as F\n",
    "\n",
    "torch.manual_seed(1976)\n",
    "\n",
    "train_dataset, test_dataset, val_dataset = nnu.loadMNISTDatasets()"
   ]
  },
  {
   "cell_type": "code",
   "execution_count": 2,
   "metadata": {},
   "outputs": [
    {
     "output_type": "display_data",
     "data": {
      "text/plain": "   run  epoch      loss   valLoss  accuracy  accuracy_val   model    lr  \\\n0    1      1  0.646541  0.467358  0.809083        0.8453  MLPOne  0.01   \n1    1      2  0.445646  0.410559  0.849617        0.8582  MLPOne  0.01   \n2    1      3  0.337695  0.176339  0.887917        0.9518  MLPOne  0.01   \n3    1      4  0.161584  0.147273  0.955000        0.9572  MLPOne  0.01   \n4    1      5  0.134297  0.128280  0.962717        0.9621  MLPOne  0.01   \n5    2      1  0.254774  0.126645  0.925333        0.9622  MLPOne  0.05   \n6    2      2  0.102930  0.086122  0.970100        0.9731  MLPOne  0.05   \n7    2      3  0.068155  0.075252  0.979817        0.9758  MLPOne  0.05   \n8    2      4  0.050219  0.074005  0.985000        0.9773  MLPOne  0.05   \n9    2      5  0.036464  0.060496  0.989767        0.9808  MLPOne  0.05   \n\n   batch_size optim  \n0          32   sgd  \n1          32   sgd  \n2          32   sgd  \n3          32   sgd  \n4          32   sgd  \n5          32   sgd  \n6          32   sgd  \n7          32   sgd  \n8          32   sgd  \n9          32   sgd  ",
      "text/html": "<div>\n<style scoped>\n    .dataframe tbody tr th:only-of-type {\n        vertical-align: middle;\n    }\n\n    .dataframe tbody tr th {\n        vertical-align: top;\n    }\n\n    .dataframe thead th {\n        text-align: right;\n    }\n</style>\n<table border=\"1\" class=\"dataframe\">\n  <thead>\n    <tr style=\"text-align: right;\">\n      <th></th>\n      <th>run</th>\n      <th>epoch</th>\n      <th>loss</th>\n      <th>valLoss</th>\n      <th>accuracy</th>\n      <th>accuracy_val</th>\n      <th>model</th>\n      <th>lr</th>\n      <th>batch_size</th>\n      <th>optim</th>\n    </tr>\n  </thead>\n  <tbody>\n    <tr>\n      <th>0</th>\n      <td>1</td>\n      <td>1</td>\n      <td>0.646541</td>\n      <td>0.467358</td>\n      <td>0.809083</td>\n      <td>0.8453</td>\n      <td>MLPOne</td>\n      <td>0.01</td>\n      <td>32</td>\n      <td>sgd</td>\n    </tr>\n    <tr>\n      <th>1</th>\n      <td>1</td>\n      <td>2</td>\n      <td>0.445646</td>\n      <td>0.410559</td>\n      <td>0.849617</td>\n      <td>0.8582</td>\n      <td>MLPOne</td>\n      <td>0.01</td>\n      <td>32</td>\n      <td>sgd</td>\n    </tr>\n    <tr>\n      <th>2</th>\n      <td>1</td>\n      <td>3</td>\n      <td>0.337695</td>\n      <td>0.176339</td>\n      <td>0.887917</td>\n      <td>0.9518</td>\n      <td>MLPOne</td>\n      <td>0.01</td>\n      <td>32</td>\n      <td>sgd</td>\n    </tr>\n    <tr>\n      <th>3</th>\n      <td>1</td>\n      <td>4</td>\n      <td>0.161584</td>\n      <td>0.147273</td>\n      <td>0.955000</td>\n      <td>0.9572</td>\n      <td>MLPOne</td>\n      <td>0.01</td>\n      <td>32</td>\n      <td>sgd</td>\n    </tr>\n    <tr>\n      <th>4</th>\n      <td>1</td>\n      <td>5</td>\n      <td>0.134297</td>\n      <td>0.128280</td>\n      <td>0.962717</td>\n      <td>0.9621</td>\n      <td>MLPOne</td>\n      <td>0.01</td>\n      <td>32</td>\n      <td>sgd</td>\n    </tr>\n    <tr>\n      <th>5</th>\n      <td>2</td>\n      <td>1</td>\n      <td>0.254774</td>\n      <td>0.126645</td>\n      <td>0.925333</td>\n      <td>0.9622</td>\n      <td>MLPOne</td>\n      <td>0.05</td>\n      <td>32</td>\n      <td>sgd</td>\n    </tr>\n    <tr>\n      <th>6</th>\n      <td>2</td>\n      <td>2</td>\n      <td>0.102930</td>\n      <td>0.086122</td>\n      <td>0.970100</td>\n      <td>0.9731</td>\n      <td>MLPOne</td>\n      <td>0.05</td>\n      <td>32</td>\n      <td>sgd</td>\n    </tr>\n    <tr>\n      <th>7</th>\n      <td>2</td>\n      <td>3</td>\n      <td>0.068155</td>\n      <td>0.075252</td>\n      <td>0.979817</td>\n      <td>0.9758</td>\n      <td>MLPOne</td>\n      <td>0.05</td>\n      <td>32</td>\n      <td>sgd</td>\n    </tr>\n    <tr>\n      <th>8</th>\n      <td>2</td>\n      <td>4</td>\n      <td>0.050219</td>\n      <td>0.074005</td>\n      <td>0.985000</td>\n      <td>0.9773</td>\n      <td>MLPOne</td>\n      <td>0.05</td>\n      <td>32</td>\n      <td>sgd</td>\n    </tr>\n    <tr>\n      <th>9</th>\n      <td>2</td>\n      <td>5</td>\n      <td>0.036464</td>\n      <td>0.060496</td>\n      <td>0.989767</td>\n      <td>0.9808</td>\n      <td>MLPOne</td>\n      <td>0.05</td>\n      <td>32</td>\n      <td>sgd</td>\n    </tr>\n  </tbody>\n</table>\n</div>"
     },
     "metadata": {}
    }
   ],
   "source": [
    "from collections import OrderedDict\n",
    "from helpers.run import RunManager\n",
    "import torch.nn.functional as F\n",
    "\n",
    "params = OrderedDict(\n",
    "    model = [\"MLPOne\"],\n",
    "    lr = [.01, .05],\n",
    "    batch_size = [32],\n",
    "    optim = [\"sgd\"]\n",
    ")\n",
    "\n",
    "loss_fn = F.cross_entropy\n",
    "\n",
    "rm = RunManager(name=\"fixing2\")\n",
    "rm.fit(5, params, loss_fn, train_dataset, val_dataset)"
   ]
  }
 ]
}