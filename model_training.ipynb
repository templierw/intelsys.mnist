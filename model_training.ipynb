{
 "cells": [
  {
   "cell_type": "markdown",
   "metadata": {},
   "source": [
    "# Train models with different parameters\n",
    "\n",
    "Models are defined in `models/MLP.py` and `models/CNN.py`"
   ]
  },
  {
   "cell_type": "code",
   "execution_count": 1,
   "metadata": {},
   "outputs": [
    {
     "output_type": "stream",
     "name": "stderr",
     "text": [
      "/home/william/.local/lib/python3.8/site-packages/torch/cuda/__init__.py:52: UserWarning: CUDA initialization: Found no NVIDIA driver on your system. Please check that you have an NVIDIA GPU and installed a driver from http://www.nvidia.com/Download/index.aspx (Triggered internally at  /pytorch/c10/cuda/CUDAFunctions.cpp:100.)\n  return torch._C._cuda_getDeviceCount() > 0\n"
     ]
    }
   ],
   "source": [
    "from collections import OrderedDict\n",
    "import torch.nn.functional as F\n",
    "\n",
    "from helpers.mnist_loader import loadMNISTDatasets, getMNISTLoaders\n",
    "from helpers.training_guider import TrainingGuider\n",
    "\n",
    "import models.MLP as MLPs\n",
    "import models.CNN as CNNs"
   ]
  },
  {
   "cell_type": "code",
   "execution_count": 2,
   "metadata": {},
   "outputs": [],
   "source": [
    "train_dataset, val_dataset, hb_dataset = loadMNISTDatasets()"
   ]
  },
  {
   "cell_type": "markdown",
   "metadata": {},
   "source": [
    "#### Give the models you would like to train below"
   ]
  },
  {
   "cell_type": "code",
   "execution_count": 3,
   "metadata": {},
   "outputs": [],
   "source": [
    "models = [MLPs.MLPZero()]"
   ]
  },
  {
   "cell_type": "markdown",
   "metadata": {},
   "source": [
    "#### Set the parameters to try below"
   ]
  },
  {
   "cell_type": "code",
   "execution_count": 4,
   "metadata": {},
   "outputs": [],
   "source": [
    "params = OrderedDict(\n",
    "    model = models,\n",
    "    learning_rate = [0.05],\n",
    "    batch_size = [64],\n",
    "    optimizer = [\"sgd\"]\n",
    ")\n",
    "\n",
    "loss_fn = F.cross_entropy\n",
    "\n",
    "target_loss = 0.001"
   ]
  },
  {
   "cell_type": "markdown",
   "metadata": {},
   "source": [
    "#### Create trainer"
   ]
  },
  {
   "cell_type": "code",
   "execution_count": 5,
   "metadata": {},
   "outputs": [],
   "source": [
    "tariner = TrainingGuider(name=\"zerob64l005\", override_models=True)"
   ]
  },
  {
   "cell_type": "markdown",
   "metadata": {},
   "source": [
    "#### Train models"
   ]
  },
  {
   "cell_type": "code",
   "execution_count": 6,
   "metadata": {
    "tags": []
   },
   "outputs": [
    {
     "output_type": "display_data",
     "data": {
      "text/plain": "    case  epoch    loss  val_loss  accuracy  val_accuracy  learning_rate  \\\n0      1      1  0.3782    0.3106    0.8893        0.9119           0.05   \n1      1      2  0.3413    0.3078    0.9012        0.9116           0.05   \n2      1      3  0.3247    0.3040    0.9065        0.9129           0.05   \n3      1      4  0.3146    0.3010    0.9097        0.9140           0.05   \n4      1      5  0.3077    0.2998    0.9120        0.9146           0.05   \n..   ...    ...     ...       ...       ...           ...            ...   \n75     1     76  0.2508    0.2982    0.9297        0.9180           0.05   \n76     1     77  0.2506    0.2983    0.9298        0.9180           0.05   \n77     1     78  0.2504    0.2984    0.9298        0.9180           0.05   \n78     1     79  0.2502    0.2985    0.9299        0.9180           0.05   \n79     1     80  0.2500    0.2987    0.9299        0.9179           0.05   \n\n    batch_size optimizer    model  \n0           64       sgd  MLPZero  \n1           64       sgd  MLPZero  \n2           64       sgd  MLPZero  \n3           64       sgd  MLPZero  \n4           64       sgd  MLPZero  \n..         ...       ...      ...  \n75          64       sgd  MLPZero  \n76          64       sgd  MLPZero  \n77          64       sgd  MLPZero  \n78          64       sgd  MLPZero  \n79          64       sgd  MLPZero  \n\n[80 rows x 10 columns]",
      "text/html": "<div>\n<style scoped>\n    .dataframe tbody tr th:only-of-type {\n        vertical-align: middle;\n    }\n\n    .dataframe tbody tr th {\n        vertical-align: top;\n    }\n\n    .dataframe thead th {\n        text-align: right;\n    }\n</style>\n<table border=\"1\" class=\"dataframe\">\n  <thead>\n    <tr style=\"text-align: right;\">\n      <th></th>\n      <th>case</th>\n      <th>epoch</th>\n      <th>loss</th>\n      <th>val_loss</th>\n      <th>accuracy</th>\n      <th>val_accuracy</th>\n      <th>learning_rate</th>\n      <th>batch_size</th>\n      <th>optimizer</th>\n      <th>model</th>\n    </tr>\n  </thead>\n  <tbody>\n    <tr>\n      <th>0</th>\n      <td>1</td>\n      <td>1</td>\n      <td>0.3782</td>\n      <td>0.3106</td>\n      <td>0.8893</td>\n      <td>0.9119</td>\n      <td>0.05</td>\n      <td>64</td>\n      <td>sgd</td>\n      <td>MLPZero</td>\n    </tr>\n    <tr>\n      <th>1</th>\n      <td>1</td>\n      <td>2</td>\n      <td>0.3413</td>\n      <td>0.3078</td>\n      <td>0.9012</td>\n      <td>0.9116</td>\n      <td>0.05</td>\n      <td>64</td>\n      <td>sgd</td>\n      <td>MLPZero</td>\n    </tr>\n    <tr>\n      <th>2</th>\n      <td>1</td>\n      <td>3</td>\n      <td>0.3247</td>\n      <td>0.3040</td>\n      <td>0.9065</td>\n      <td>0.9129</td>\n      <td>0.05</td>\n      <td>64</td>\n      <td>sgd</td>\n      <td>MLPZero</td>\n    </tr>\n    <tr>\n      <th>3</th>\n      <td>1</td>\n      <td>4</td>\n      <td>0.3146</td>\n      <td>0.3010</td>\n      <td>0.9097</td>\n      <td>0.9140</td>\n      <td>0.05</td>\n      <td>64</td>\n      <td>sgd</td>\n      <td>MLPZero</td>\n    </tr>\n    <tr>\n      <th>4</th>\n      <td>1</td>\n      <td>5</td>\n      <td>0.3077</td>\n      <td>0.2998</td>\n      <td>0.9120</td>\n      <td>0.9146</td>\n      <td>0.05</td>\n      <td>64</td>\n      <td>sgd</td>\n      <td>MLPZero</td>\n    </tr>\n    <tr>\n      <th>...</th>\n      <td>...</td>\n      <td>...</td>\n      <td>...</td>\n      <td>...</td>\n      <td>...</td>\n      <td>...</td>\n      <td>...</td>\n      <td>...</td>\n      <td>...</td>\n      <td>...</td>\n    </tr>\n    <tr>\n      <th>75</th>\n      <td>1</td>\n      <td>76</td>\n      <td>0.2508</td>\n      <td>0.2982</td>\n      <td>0.9297</td>\n      <td>0.9180</td>\n      <td>0.05</td>\n      <td>64</td>\n      <td>sgd</td>\n      <td>MLPZero</td>\n    </tr>\n    <tr>\n      <th>76</th>\n      <td>1</td>\n      <td>77</td>\n      <td>0.2506</td>\n      <td>0.2983</td>\n      <td>0.9298</td>\n      <td>0.9180</td>\n      <td>0.05</td>\n      <td>64</td>\n      <td>sgd</td>\n      <td>MLPZero</td>\n    </tr>\n    <tr>\n      <th>77</th>\n      <td>1</td>\n      <td>78</td>\n      <td>0.2504</td>\n      <td>0.2984</td>\n      <td>0.9298</td>\n      <td>0.9180</td>\n      <td>0.05</td>\n      <td>64</td>\n      <td>sgd</td>\n      <td>MLPZero</td>\n    </tr>\n    <tr>\n      <th>78</th>\n      <td>1</td>\n      <td>79</td>\n      <td>0.2502</td>\n      <td>0.2985</td>\n      <td>0.9299</td>\n      <td>0.9180</td>\n      <td>0.05</td>\n      <td>64</td>\n      <td>sgd</td>\n      <td>MLPZero</td>\n    </tr>\n    <tr>\n      <th>79</th>\n      <td>1</td>\n      <td>80</td>\n      <td>0.2500</td>\n      <td>0.2987</td>\n      <td>0.9299</td>\n      <td>0.9179</td>\n      <td>0.05</td>\n      <td>64</td>\n      <td>sgd</td>\n      <td>MLPZero</td>\n    </tr>\n  </tbody>\n</table>\n<p>80 rows × 10 columns</p>\n</div>"
     },
     "metadata": {}
    }
   ],
   "source": [
    "tariner.run(80, params, loss_fn, target_loss, train_dataset, val_dataset)"
   ]
  }
 ],
 "metadata": {
  "kernelspec": {
   "display_name": "Python 3",
   "language": "python",
   "name": "python3"
  },
  "language_info": {
   "codemirror_mode": {
    "name": "ipython",
    "version": 3
   },
   "file_extension": ".py",
   "mimetype": "text/x-python",
   "name": "python",
   "nbconvert_exporter": "python",
   "pygments_lexer": "ipython3",
   "version": "3.8.5-final"
  }
 },
 "nbformat": 4,
 "nbformat_minor": 2
}