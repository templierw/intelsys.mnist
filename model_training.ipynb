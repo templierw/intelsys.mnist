{
 "cells": [
  {
   "cell_type": "markdown",
   "metadata": {},
   "source": [
    "# Train models with different parameters\n",
    "\n",
    "Models are defined in `models/MLP.py` and `models/CNN.py`"
   ]
  },
  {
   "cell_type": "code",
   "execution_count": 1,
   "metadata": {
    "scrolled": true
   },
   "outputs": [],
   "source": [
    "from collections import OrderedDict\n",
    "import torch.nn.functional as F\n",
    "import torch.utils.tensorboard as tensorboard\n",
    "\n",
    "from helpers.mnist_loader import loadMNISTDatasets, getMNISTLoaders\n",
    "from helpers.training_guider import TrainingGuider\n",
    "\n",
    "import models.MLP as MLPs\n",
    "import models.CNN as CNNs"
   ]
  },
  {
   "cell_type": "code",
   "execution_count": 2,
   "metadata": {
    "scrolled": true
   },
   "outputs": [],
   "source": [
    "train_dataset, val_dataset, hb_dataset = loadMNISTDatasets()"
   ]
  },
  {
   "cell_type": "markdown",
   "metadata": {},
   "source": [
    "#### Give the models you would like to train below"
   ]
  },
  {
   "cell_type": "code",
   "execution_count": 3,
   "metadata": {
    "scrolled": true
   },
   "outputs": [],
   "source": [
    "models = [MLPs.MLPZero, MLPs.MLPZeroReLu]"
   ]
  },
  {
   "cell_type": "markdown",
   "metadata": {},
   "source": [
    "#### Set the parameters to try below"
   ]
  },
  {
   "cell_type": "code",
   "execution_count": 4,
   "metadata": {
    "scrolled": true
   },
   "outputs": [],
   "source": [
    "params = OrderedDict(\n",
    "    model = models,\n",
    "    learning_rate = [0.02, 0.07],\n",
    "    batch_size = [32, 256],\n",
    "    optimizer = [\"sgd\"]\n",
    ")\n",
    "\n",
    "loss_fn = F.cross_entropy\n",
    "\n",
    "target_loss = 0.001"
   ]
  },
  {
   "cell_type": "markdown",
   "metadata": {},
   "source": [
    "#### Create trainer"
   ]
  },
  {
   "cell_type": "code",
   "execution_count": 5,
   "metadata": {
    "scrolled": true
   },
   "outputs": [],
   "source": [
    "training_name = \"zero_params\""
   ]
  },
  {
   "cell_type": "code",
   "execution_count": 6,
   "metadata": {
    "scrolled": true
   },
   "outputs": [],
   "source": [
    "trainer = TrainingGuider(name=training_name, override_models=True)"
   ]
  },
  {
   "cell_type": "markdown",
   "metadata": {},
   "source": [
    "#### Train models"
   ]
  },
  {
   "cell_type": "code",
   "execution_count": 7,
   "metadata": {
    "scrolled": true,
    "tags": []
   },
   "outputs": [
    {
     "data": {
      "text/html": [
       "<div>\n",
       "<style scoped>\n",
       "    .dataframe tbody tr th:only-of-type {\n",
       "        vertical-align: middle;\n",
       "    }\n",
       "\n",
       "    .dataframe tbody tr th {\n",
       "        vertical-align: top;\n",
       "    }\n",
       "\n",
       "    .dataframe thead th {\n",
       "        text-align: right;\n",
       "    }\n",
       "</style>\n",
       "<table border=\"1\" class=\"dataframe\">\n",
       "  <thead>\n",
       "    <tr style=\"text-align: right;\">\n",
       "      <th></th>\n",
       "      <th>case</th>\n",
       "      <th>epoch</th>\n",
       "      <th>loss</th>\n",
       "      <th>val_loss</th>\n",
       "      <th>accuracy</th>\n",
       "      <th>val_accuracy</th>\n",
       "      <th>learning_rate</th>\n",
       "      <th>batch_size</th>\n",
       "      <th>optimizer</th>\n",
       "      <th>model</th>\n",
       "    </tr>\n",
       "  </thead>\n",
       "  <tbody>\n",
       "    <tr>\n",
       "      <th>0</th>\n",
       "      <td>1</td>\n",
       "      <td>1</td>\n",
       "      <td>0.3837</td>\n",
       "      <td>0.3140</td>\n",
       "      <td>0.8906</td>\n",
       "      <td>0.9114</td>\n",
       "      <td>0.02</td>\n",
       "      <td>32</td>\n",
       "      <td>sgd</td>\n",
       "      <td>MLPZero</td>\n",
       "    </tr>\n",
       "    <tr>\n",
       "      <th>1</th>\n",
       "      <td>1</td>\n",
       "      <td>2</td>\n",
       "      <td>0.3447</td>\n",
       "      <td>0.3044</td>\n",
       "      <td>0.9013</td>\n",
       "      <td>0.9141</td>\n",
       "      <td>0.02</td>\n",
       "      <td>32</td>\n",
       "      <td>sgd</td>\n",
       "      <td>MLPZero</td>\n",
       "    </tr>\n",
       "    <tr>\n",
       "      <th>2</th>\n",
       "      <td>1</td>\n",
       "      <td>3</td>\n",
       "      <td>0.3274</td>\n",
       "      <td>0.3008</td>\n",
       "      <td>0.9064</td>\n",
       "      <td>0.9142</td>\n",
       "      <td>0.02</td>\n",
       "      <td>32</td>\n",
       "      <td>sgd</td>\n",
       "      <td>MLPZero</td>\n",
       "    </tr>\n",
       "    <tr>\n",
       "      <th>3</th>\n",
       "      <td>1</td>\n",
       "      <td>4</td>\n",
       "      <td>0.3168</td>\n",
       "      <td>0.2993</td>\n",
       "      <td>0.9099</td>\n",
       "      <td>0.9151</td>\n",
       "      <td>0.02</td>\n",
       "      <td>32</td>\n",
       "      <td>sgd</td>\n",
       "      <td>MLPZero</td>\n",
       "    </tr>\n",
       "    <tr>\n",
       "      <th>4</th>\n",
       "      <td>1</td>\n",
       "      <td>5</td>\n",
       "      <td>0.3093</td>\n",
       "      <td>0.2958</td>\n",
       "      <td>0.9123</td>\n",
       "      <td>0.9159</td>\n",
       "      <td>0.02</td>\n",
       "      <td>32</td>\n",
       "      <td>sgd</td>\n",
       "      <td>MLPZero</td>\n",
       "    </tr>\n",
       "    <tr>\n",
       "      <th>...</th>\n",
       "      <td>...</td>\n",
       "      <td>...</td>\n",
       "      <td>...</td>\n",
       "      <td>...</td>\n",
       "      <td>...</td>\n",
       "      <td>...</td>\n",
       "      <td>...</td>\n",
       "      <td>...</td>\n",
       "      <td>...</td>\n",
       "      <td>...</td>\n",
       "    </tr>\n",
       "    <tr>\n",
       "      <th>475</th>\n",
       "      <td>8</td>\n",
       "      <td>56</td>\n",
       "      <td>0.2595</td>\n",
       "      <td>0.2812</td>\n",
       "      <td>0.9261</td>\n",
       "      <td>0.9192</td>\n",
       "      <td>0.07</td>\n",
       "      <td>256</td>\n",
       "      <td>sgd</td>\n",
       "      <td>MLPZeroReLu</td>\n",
       "    </tr>\n",
       "    <tr>\n",
       "      <th>476</th>\n",
       "      <td>8</td>\n",
       "      <td>57</td>\n",
       "      <td>0.2589</td>\n",
       "      <td>0.2809</td>\n",
       "      <td>0.9262</td>\n",
       "      <td>0.9192</td>\n",
       "      <td>0.07</td>\n",
       "      <td>256</td>\n",
       "      <td>sgd</td>\n",
       "      <td>MLPZeroReLu</td>\n",
       "    </tr>\n",
       "    <tr>\n",
       "      <th>477</th>\n",
       "      <td>8</td>\n",
       "      <td>58</td>\n",
       "      <td>0.2584</td>\n",
       "      <td>0.2807</td>\n",
       "      <td>0.9264</td>\n",
       "      <td>0.9193</td>\n",
       "      <td>0.07</td>\n",
       "      <td>256</td>\n",
       "      <td>sgd</td>\n",
       "      <td>MLPZeroReLu</td>\n",
       "    </tr>\n",
       "    <tr>\n",
       "      <th>478</th>\n",
       "      <td>8</td>\n",
       "      <td>59</td>\n",
       "      <td>0.2578</td>\n",
       "      <td>0.2804</td>\n",
       "      <td>0.9266</td>\n",
       "      <td>0.9194</td>\n",
       "      <td>0.07</td>\n",
       "      <td>256</td>\n",
       "      <td>sgd</td>\n",
       "      <td>MLPZeroReLu</td>\n",
       "    </tr>\n",
       "    <tr>\n",
       "      <th>479</th>\n",
       "      <td>8</td>\n",
       "      <td>60</td>\n",
       "      <td>0.2573</td>\n",
       "      <td>0.2803</td>\n",
       "      <td>0.9267</td>\n",
       "      <td>0.9195</td>\n",
       "      <td>0.07</td>\n",
       "      <td>256</td>\n",
       "      <td>sgd</td>\n",
       "      <td>MLPZeroReLu</td>\n",
       "    </tr>\n",
       "  </tbody>\n",
       "</table>\n",
       "<p>480 rows × 10 columns</p>\n",
       "</div>"
      ],
      "text/plain": [
       "     case  epoch    loss  val_loss  accuracy  val_accuracy  learning_rate  \\\n",
       "0       1      1  0.3837    0.3140    0.8906        0.9114           0.02   \n",
       "1       1      2  0.3447    0.3044    0.9013        0.9141           0.02   \n",
       "2       1      3  0.3274    0.3008    0.9064        0.9142           0.02   \n",
       "3       1      4  0.3168    0.2993    0.9099        0.9151           0.02   \n",
       "4       1      5  0.3093    0.2958    0.9123        0.9159           0.02   \n",
       "..    ...    ...     ...       ...       ...           ...            ...   \n",
       "475     8     56  0.2595    0.2812    0.9261        0.9192           0.07   \n",
       "476     8     57  0.2589    0.2809    0.9262        0.9192           0.07   \n",
       "477     8     58  0.2584    0.2807    0.9264        0.9193           0.07   \n",
       "478     8     59  0.2578    0.2804    0.9266        0.9194           0.07   \n",
       "479     8     60  0.2573    0.2803    0.9267        0.9195           0.07   \n",
       "\n",
       "     batch_size optimizer        model  \n",
       "0            32       sgd      MLPZero  \n",
       "1            32       sgd      MLPZero  \n",
       "2            32       sgd      MLPZero  \n",
       "3            32       sgd      MLPZero  \n",
       "4            32       sgd      MLPZero  \n",
       "..          ...       ...          ...  \n",
       "475         256       sgd  MLPZeroReLu  \n",
       "476         256       sgd  MLPZeroReLu  \n",
       "477         256       sgd  MLPZeroReLu  \n",
       "478         256       sgd  MLPZeroReLu  \n",
       "479         256       sgd  MLPZeroReLu  \n",
       "\n",
       "[480 rows x 10 columns]"
      ]
     },
     "metadata": {},
     "output_type": "display_data"
    }
   ],
   "source": [
    "trainer.run(60, params, loss_fn, target_loss, train_dataset, val_dataset)"
   ]
  },
  {
   "cell_type": "markdown",
   "metadata": {},
   "source": [
    "#### Visualize training progress with tensorboard (filter for training name on the bottom left)"
   ]
  },
  {
   "cell_type": "code",
   "execution_count": 8,
   "metadata": {
    "scrolled": true
   },
   "outputs": [
    {
     "data": {
      "text/html": [
       "\n",
       "      <iframe id=\"tensorboard-frame-dbd5503d116adcab\" width=\"100%\" height=\"800\" frameborder=\"0\">\n",
       "      </iframe>\n",
       "      <script>\n",
       "        (function() {\n",
       "          const frame = document.getElementById(\"tensorboard-frame-dbd5503d116adcab\");\n",
       "          const url = new URL(\"/\", window.location);\n",
       "          const port = 6009;\n",
       "          if (port) {\n",
       "            url.port = port;\n",
       "          }\n",
       "          frame.src = url;\n",
       "        })();\n",
       "      </script>\n",
       "    "
      ],
      "text/plain": [
       "<IPython.core.display.HTML object>"
      ]
     },
     "metadata": {},
     "output_type": "display_data"
    }
   ],
   "source": [
    "# Launcing tensorboard may take a few minutes (in case it times out, retry)\n",
    "\n",
    "%load_ext tensorboard\n",
    "%tensorboard --logdir f'runs/xp/{training_name}'\n",
    "%reload_ext tensorboard"
   ]
  },
  {
   "cell_type": "code",
   "execution_count": null,
   "metadata": {
    "scrolled": true
   },
   "outputs": [],
   "source": []
  }
 ],
 "metadata": {
  "kernelspec": {
   "display_name": "Python 3",
   "language": "python",
   "name": "python3"
  },
  "language_info": {
   "codemirror_mode": {
    "name": "ipython",
    "version": 3
   },
   "file_extension": ".py",
   "mimetype": "text/x-python",
   "name": "python",
   "nbconvert_exporter": "python",
   "pygments_lexer": "ipython3",
   "version": "3.8.8"
  }
 },
 "nbformat": 4,
 "nbformat_minor": 2
}
