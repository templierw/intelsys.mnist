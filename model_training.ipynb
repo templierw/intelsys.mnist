{
 "cells": [
  {
   "cell_type": "markdown",
   "metadata": {},
   "source": [
    "# Train models with different parameters\n",
    "\n",
    "Models are defined in `models/MLP.py` and `models/CNN.py`"
   ]
  },
  {
   "cell_type": "code",
   "execution_count": 1,
   "metadata": {
    "scrolled": true
   },
   "outputs": [],
   "source": [
    "from collections import OrderedDict\n",
    "import torch.nn.functional as F\n",
    "import torch.utils.tensorboard as tensorboard\n",
    "\n",
    "from helpers.mnist_loader import loadMNISTDatasets, getMNISTLoaders\n",
    "from helpers.training_guider import TrainingGuider\n",
    "\n",
    "import models.MLP as MLPs\n",
    "import models.CNN as CNNs"
   ]
  },
  {
   "cell_type": "code",
   "execution_count": 2,
   "metadata": {
    "scrolled": true
   },
   "outputs": [],
   "source": [
    "train_dataset, val_dataset, hb_dataset = loadMNISTDatasets()"
   ]
  },
  {
   "cell_type": "markdown",
   "metadata": {},
   "source": [
    "#### Give the models you would like to train below"
   ]
  },
  {
   "cell_type": "code",
   "execution_count": 3,
   "metadata": {
    "scrolled": true
   },
   "outputs": [],
   "source": [
    "models = [MLPs.MLPTwo]"
   ]
  },
  {
   "cell_type": "markdown",
   "metadata": {},
   "source": [
    "#### Set the parameters to try below"
   ]
  },
  {
   "cell_type": "code",
   "execution_count": 4,
   "metadata": {
    "scrolled": true
   },
   "outputs": [],
   "source": [
    "params = OrderedDict(\n",
    "    model = models,\n",
    "    learning_rate = [0.2, 0.02],\n",
    "    batch_size = [64, 256],\n",
    "    optimizer = [\"sgd\"]\n",
    ")\n",
    "\n",
    "loss_fn = F.cross_entropy\n",
    "\n",
    "target_loss = 0.001"
   ]
  },
  {
   "cell_type": "markdown",
   "metadata": {},
   "source": [
    "#### Create trainer"
   ]
  },
  {
   "cell_type": "code",
   "execution_count": 5,
   "metadata": {
    "scrolled": true
   },
   "outputs": [],
   "source": [
    "training_name = \"two_test_60epochs\""
   ]
  },
  {
   "cell_type": "code",
   "execution_count": 6,
   "metadata": {
    "scrolled": true
   },
   "outputs": [],
   "source": [
    "trainer = TrainingGuider(name=training_name, override_models=True)"
   ]
  },
  {
   "cell_type": "markdown",
   "metadata": {},
   "source": [
    "#### Train models"
   ]
  },
  {
   "cell_type": "code",
   "execution_count": 7,
   "metadata": {
    "scrolled": true,
    "tags": []
   },
   "outputs": [
    {
     "data": {
      "text/html": [
       "<div>\n",
       "<style scoped>\n",
       "    .dataframe tbody tr th:only-of-type {\n",
       "        vertical-align: middle;\n",
       "    }\n",
       "\n",
       "    .dataframe tbody tr th {\n",
       "        vertical-align: top;\n",
       "    }\n",
       "\n",
       "    .dataframe thead th {\n",
       "        text-align: right;\n",
       "    }\n",
       "</style>\n",
       "<table border=\"1\" class=\"dataframe\">\n",
       "  <thead>\n",
       "    <tr style=\"text-align: right;\">\n",
       "      <th></th>\n",
       "      <th>case</th>\n",
       "      <th>epoch</th>\n",
       "      <th>loss</th>\n",
       "      <th>val_loss</th>\n",
       "      <th>accuracy</th>\n",
       "      <th>val_accuracy</th>\n",
       "      <th>learning_rate</th>\n",
       "      <th>batch_size</th>\n",
       "      <th>optimizer</th>\n",
       "      <th>model</th>\n",
       "    </tr>\n",
       "  </thead>\n",
       "  <tbody>\n",
       "    <tr>\n",
       "      <th>0</th>\n",
       "      <td>1</td>\n",
       "      <td>1</td>\n",
       "      <td>0.2836</td>\n",
       "      <td>0.1333</td>\n",
       "      <td>0.9110</td>\n",
       "      <td>0.9584</td>\n",
       "      <td>0.20</td>\n",
       "      <td>64</td>\n",
       "      <td>sgd</td>\n",
       "      <td>MLPTwo</td>\n",
       "    </tr>\n",
       "    <tr>\n",
       "      <th>1</th>\n",
       "      <td>1</td>\n",
       "      <td>2</td>\n",
       "      <td>0.1876</td>\n",
       "      <td>0.1151</td>\n",
       "      <td>0.9412</td>\n",
       "      <td>0.9643</td>\n",
       "      <td>0.20</td>\n",
       "      <td>64</td>\n",
       "      <td>sgd</td>\n",
       "      <td>MLPTwo</td>\n",
       "    </tr>\n",
       "    <tr>\n",
       "      <th>2</th>\n",
       "      <td>1</td>\n",
       "      <td>3</td>\n",
       "      <td>0.1437</td>\n",
       "      <td>0.1047</td>\n",
       "      <td>0.9551</td>\n",
       "      <td>0.9681</td>\n",
       "      <td>0.20</td>\n",
       "      <td>64</td>\n",
       "      <td>sgd</td>\n",
       "      <td>MLPTwo</td>\n",
       "    </tr>\n",
       "    <tr>\n",
       "      <th>3</th>\n",
       "      <td>1</td>\n",
       "      <td>4</td>\n",
       "      <td>0.1178</td>\n",
       "      <td>0.1013</td>\n",
       "      <td>0.9631</td>\n",
       "      <td>0.9697</td>\n",
       "      <td>0.20</td>\n",
       "      <td>64</td>\n",
       "      <td>sgd</td>\n",
       "      <td>MLPTwo</td>\n",
       "    </tr>\n",
       "    <tr>\n",
       "      <th>4</th>\n",
       "      <td>1</td>\n",
       "      <td>5</td>\n",
       "      <td>0.1000</td>\n",
       "      <td>0.0986</td>\n",
       "      <td>0.9687</td>\n",
       "      <td>0.9709</td>\n",
       "      <td>0.20</td>\n",
       "      <td>64</td>\n",
       "      <td>sgd</td>\n",
       "      <td>MLPTwo</td>\n",
       "    </tr>\n",
       "    <tr>\n",
       "      <th>...</th>\n",
       "      <td>...</td>\n",
       "      <td>...</td>\n",
       "      <td>...</td>\n",
       "      <td>...</td>\n",
       "      <td>...</td>\n",
       "      <td>...</td>\n",
       "      <td>...</td>\n",
       "      <td>...</td>\n",
       "      <td>...</td>\n",
       "      <td>...</td>\n",
       "    </tr>\n",
       "    <tr>\n",
       "      <th>235</th>\n",
       "      <td>4</td>\n",
       "      <td>56</td>\n",
       "      <td>0.1461</td>\n",
       "      <td>0.1623</td>\n",
       "      <td>0.9600</td>\n",
       "      <td>0.9532</td>\n",
       "      <td>0.02</td>\n",
       "      <td>256</td>\n",
       "      <td>sgd</td>\n",
       "      <td>MLPTwo</td>\n",
       "    </tr>\n",
       "    <tr>\n",
       "      <th>236</th>\n",
       "      <td>4</td>\n",
       "      <td>57</td>\n",
       "      <td>0.1441</td>\n",
       "      <td>0.1609</td>\n",
       "      <td>0.9606</td>\n",
       "      <td>0.9536</td>\n",
       "      <td>0.02</td>\n",
       "      <td>256</td>\n",
       "      <td>sgd</td>\n",
       "      <td>MLPTwo</td>\n",
       "    </tr>\n",
       "    <tr>\n",
       "      <th>237</th>\n",
       "      <td>4</td>\n",
       "      <td>58</td>\n",
       "      <td>0.1421</td>\n",
       "      <td>0.1596</td>\n",
       "      <td>0.9611</td>\n",
       "      <td>0.9540</td>\n",
       "      <td>0.02</td>\n",
       "      <td>256</td>\n",
       "      <td>sgd</td>\n",
       "      <td>MLPTwo</td>\n",
       "    </tr>\n",
       "    <tr>\n",
       "      <th>238</th>\n",
       "      <td>4</td>\n",
       "      <td>59</td>\n",
       "      <td>0.1402</td>\n",
       "      <td>0.1583</td>\n",
       "      <td>0.9617</td>\n",
       "      <td>0.9543</td>\n",
       "      <td>0.02</td>\n",
       "      <td>256</td>\n",
       "      <td>sgd</td>\n",
       "      <td>MLPTwo</td>\n",
       "    </tr>\n",
       "    <tr>\n",
       "      <th>239</th>\n",
       "      <td>4</td>\n",
       "      <td>60</td>\n",
       "      <td>0.1383</td>\n",
       "      <td>0.1570</td>\n",
       "      <td>0.9622</td>\n",
       "      <td>0.9547</td>\n",
       "      <td>0.02</td>\n",
       "      <td>256</td>\n",
       "      <td>sgd</td>\n",
       "      <td>MLPTwo</td>\n",
       "    </tr>\n",
       "  </tbody>\n",
       "</table>\n",
       "<p>240 rows × 10 columns</p>\n",
       "</div>"
      ],
      "text/plain": [
       "     case  epoch    loss  val_loss  accuracy  val_accuracy  learning_rate  \\\n",
       "0       1      1  0.2836    0.1333    0.9110        0.9584           0.20   \n",
       "1       1      2  0.1876    0.1151    0.9412        0.9643           0.20   \n",
       "2       1      3  0.1437    0.1047    0.9551        0.9681           0.20   \n",
       "3       1      4  0.1178    0.1013    0.9631        0.9697           0.20   \n",
       "4       1      5  0.1000    0.0986    0.9687        0.9709           0.20   \n",
       "..    ...    ...     ...       ...       ...           ...            ...   \n",
       "235     4     56  0.1461    0.1623    0.9600        0.9532           0.02   \n",
       "236     4     57  0.1441    0.1609    0.9606        0.9536           0.02   \n",
       "237     4     58  0.1421    0.1596    0.9611        0.9540           0.02   \n",
       "238     4     59  0.1402    0.1583    0.9617        0.9543           0.02   \n",
       "239     4     60  0.1383    0.1570    0.9622        0.9547           0.02   \n",
       "\n",
       "     batch_size optimizer   model  \n",
       "0            64       sgd  MLPTwo  \n",
       "1            64       sgd  MLPTwo  \n",
       "2            64       sgd  MLPTwo  \n",
       "3            64       sgd  MLPTwo  \n",
       "4            64       sgd  MLPTwo  \n",
       "..          ...       ...     ...  \n",
       "235         256       sgd  MLPTwo  \n",
       "236         256       sgd  MLPTwo  \n",
       "237         256       sgd  MLPTwo  \n",
       "238         256       sgd  MLPTwo  \n",
       "239         256       sgd  MLPTwo  \n",
       "\n",
       "[240 rows x 10 columns]"
      ]
     },
     "metadata": {},
     "output_type": "display_data"
    }
   ],
   "source": [
    "trainer.run(60, params, loss_fn, target_loss, train_dataset, val_dataset)"
   ]
  },
  {
   "cell_type": "markdown",
   "metadata": {},
   "source": [
    "#### Visualize training progress with tensorboard (filter for training name on the bottom left)"
   ]
  },
  {
   "cell_type": "code",
   "execution_count": 8,
   "metadata": {
    "scrolled": true
   },
   "outputs": [
    {
     "data": {
      "text/html": [
       "\n",
       "      <iframe id=\"tensorboard-frame-c00c9345d4197323\" width=\"100%\" height=\"800\" frameborder=\"0\">\n",
       "      </iframe>\n",
       "      <script>\n",
       "        (function() {\n",
       "          const frame = document.getElementById(\"tensorboard-frame-c00c9345d4197323\");\n",
       "          const url = new URL(\"/\", window.location);\n",
       "          const port = 6008;\n",
       "          if (port) {\n",
       "            url.port = port;\n",
       "          }\n",
       "          frame.src = url;\n",
       "        })();\n",
       "      </script>\n",
       "    "
      ],
      "text/plain": [
       "<IPython.core.display.HTML object>"
      ]
     },
     "metadata": {},
     "output_type": "display_data"
    }
   ],
   "source": [
    "# Launcing tensorboard may take a few minutes (in case it times out, retry)\n",
    "\n",
    "%load_ext tensorboard\n",
    "%tensorboard --logdir f'runs/xp/{training_name}'\n",
    "%reload_ext tensorboard"
   ]
  },
  {
   "cell_type": "code",
   "execution_count": null,
   "metadata": {
    "scrolled": true
   },
   "outputs": [],
   "source": []
  }
 ],
 "metadata": {
  "kernelspec": {
   "display_name": "Python 3",
   "language": "python",
   "name": "python3"
  },
  "language_info": {
   "codemirror_mode": {
    "name": "ipython",
    "version": 3
   },
   "file_extension": ".py",
   "mimetype": "text/x-python",
   "name": "python",
   "nbconvert_exporter": "python",
   "pygments_lexer": "ipython3",
   "version": "3.8.8"
  }
 },
 "nbformat": 4,
 "nbformat_minor": 2
}
