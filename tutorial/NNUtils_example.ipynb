{
 "cells": [
  {
   "cell_type": "code",
   "execution_count": 1,
   "metadata": {},
   "outputs": [],
   "source": [
    "import wilpack.NNUtils as nu\n",
    "\n",
    "trainloader, testloader = nu.loadMNIST()"
   ]
  },
  {
   "cell_type": "code",
   "execution_count": 4,
   "metadata": {},
   "outputs": [
    {
     "output_type": "stream",
     "name": "stdout",
     "text": [
      "Cannot display the image(s) - please verify your parameters...\n"
     ]
    }
   ],
   "source": [
    "plotImages(example_data,example_targets , 6)"
   ]
  },
  {
   "cell_type": "code",
   "execution_count": 5,
   "metadata": {},
   "outputs": [],
   "source": [
    "import torch.nn as nn\n",
    "import torch.nn.functional as F\n",
    "import torch.optim as optim\n",
    "\n",
    "class Net(nn.Module):\n",
    "    def __init__(self):\n",
    "        super(Net, self).__init__()\n",
    "        self.conv1 = nn.Conv2d(1, 10, kernel_size=5)\n",
    "        self.conv2 = nn.Conv2d(10, 20, kernel_size=5)\n",
    "        self.conv2_drop = nn.Dropout2d()\n",
    "        self.fc1 = nn.Linear(320, 50)\n",
    "        self.fc2 = nn.Linear(50, 10)\n",
    "\n",
    "    def forward(self, x):\n",
    "        x = F.relu(F.max_pool2d(self.conv1(x), 2))\n",
    "        x = F.relu(F.max_pool2d(self.conv2_drop(self.conv2(x)), 2))\n",
    "        x = x.view(-1, 320)\n",
    "        x = F.relu(self.fc1(x))\n",
    "        x = F.dropout(x, training=self.training)\n",
    "        x = self.fc2(x)\n",
    "        return F.log_softmax(x)"
   ]
  },
  {
   "cell_type": "code",
   "execution_count": 6,
   "metadata": {},
   "outputs": [],
   "source": [
    "model = Net()\n",
    "loss_func = F.cross_entropy\n",
    "opt = nu.getSGDOptim(model, 0.01)"
   ]
  },
  {
   "cell_type": "code",
   "execution_count": 8,
   "metadata": {},
   "outputs": [
    {
     "output_type": "stream",
     "name": "stderr",
     "text": [
      "<ipython-input-5-fe54d3ae7723>:21: UserWarning: Implicit dimension choice for log_softmax has been deprecated. Change the call to include dim=X as an argument.\n",
      "  return F.log_softmax(x)\n",
      "/home/william/.local/lib/python3.8/site-packages/torch/autograd/__init__.py:130: UserWarning: CUDA initialization: Found no NVIDIA driver on your system. Please check that you have an NVIDIA GPU and installed a driver from http://www.nvidia.com/Download/index.aspx (Triggered internally at  /pytorch/c10/cuda/CUDAFunctions.cpp:100.)\n",
      "  Variable._execution_engine.run_backward(\n",
      "Train Epoch: 0 [0%] \tLoss: 2.099054\n",
      "Train Epoch: 0 [7%] \tLoss: 1.711287\n",
      "Train Epoch: 0 [13%] \tLoss: 0.143258\n",
      "Train Epoch: 0 [20%] \tLoss: 0.438541\n",
      "Train Epoch: 0 [27%] \tLoss: 0.504946\n",
      "Train Epoch: 0 [33%] \tLoss: 0.607381\n",
      "Train Epoch: 0 [40%] \tLoss: 0.343561\n",
      "Train Epoch: 0 [47%] \tLoss: 0.634137\n",
      "Train Epoch: 0 [53%] \tLoss: 0.629187\n",
      "Train Epoch: 0 [60%] \tLoss: 0.128861\n",
      "Train Epoch: 0 [67%] \tLoss: 0.005709\n",
      "Train Epoch: 0 [73%] \tLoss: 1.396502\n",
      "Train Epoch: 0 [80%] \tLoss: 0.089380\n",
      "Train Epoch: 0 [87%] \tLoss: 0.096176\n",
      "Train Epoch: 0 [93%] \tLoss: 0.016395\n",
      "Train Epoch: 1 [0%] \tLoss: 0.446474\n",
      "Train Epoch: 1 [7%] \tLoss: 0.163569\n",
      "Train Epoch: 1 [13%] \tLoss: 0.093631\n",
      "Train Epoch: 1 [20%] \tLoss: 0.008935\n",
      "Train Epoch: 1 [27%] \tLoss: 0.181990\n",
      "Train Epoch: 1 [33%] \tLoss: 0.198604\n",
      "Train Epoch: 1 [40%] \tLoss: 0.028493\n",
      "Train Epoch: 1 [47%] \tLoss: 0.046483\n",
      "Train Epoch: 1 [53%] \tLoss: 0.003355\n",
      "Train Epoch: 1 [60%] \tLoss: 0.148741\n",
      "Train Epoch: 1 [67%] \tLoss: 0.024539\n",
      "Train Epoch: 1 [73%] \tLoss: 0.244335\n",
      "Train Epoch: 1 [80%] \tLoss: 1.079422\n",
      "Train Epoch: 1 [87%] \tLoss: 0.025448\n",
      "Train Epoch: 1 [93%] \tLoss: 1.329166\n"
     ]
    }
   ],
   "source": [
    "nu.fit(2, model, loss_func, opt, trainloader)"
   ]
  },
  {
   "cell_type": "code",
   "execution_count": 9,
   "metadata": {},
   "outputs": [
    {
     "output_type": "stream",
     "name": "stderr",
     "text": [
      "<ipython-input-5-fe54d3ae7723>:21: UserWarning: Implicit dimension choice for log_softmax has been deprecated. Change the call to include dim=X as an argument.\n",
      "  return F.log_softmax(x)\n",
      "\n",
      "Test set: Avg. loss: 0.0183, Accuracy: 9767/10000         (98%)\n",
      "\n"
     ]
    }
   ],
   "source": [
    "nu.test(model, loss_func, testloader)"
   ]
  }
 ],
 "metadata": {
  "kernelspec": {
   "display_name": "Python 3",
   "language": "python",
   "name": "python3"
  },
  "language_info": {
   "codemirror_mode": {
    "name": "ipython",
    "version": 3
   },
   "file_extension": ".py",
   "mimetype": "text/x-python",
   "name": "python",
   "nbconvert_exporter": "python",
   "pygments_lexer": "ipython3",
   "version": "3.8.5"
  }
 },
 "nbformat": 4,
 "nbformat_minor": 2
}