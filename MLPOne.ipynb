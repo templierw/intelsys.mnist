{
 "cells": [
  {
   "cell_type": "markdown",
   "metadata": {},
   "source": [
    "# MNIST MLP: first attempt"
   ]
  },
  {
   "cell_type": "markdown",
   "metadata": {},
   "source": [
    "#### Import libraries"
   ]
  },
  {
   "cell_type": "code",
   "execution_count": 3,
   "metadata": {},
   "outputs": [],
   "source": [
    "from torch import nn\n",
    "import torch.nn.functional as F\n",
    "from torch.utils.data import DataLoader\n",
    "from torchvision import datasets as dt, transforms\n",
    "\n",
    "import wilpack.NNUtils as nu"
   ]
  },
  {
   "cell_type": "markdown",
   "metadata": {},
   "source": [
    "#### Import data"
   ]
  },
  {
   "cell_type": "code",
   "execution_count": 4,
   "metadata": {},
   "outputs": [],
   "source": [
    "transform = transforms.Compose(\n",
    "    [transforms.ToTensor(),\n",
    "     transforms.Normalize((0.1307,), (0.3081,))])\n",
    "\n",
    "trainset = dt.MNIST(root='./dataset', train=True, download=True, transform=transform)\n",
    "trainloader = DataLoader(trainset, batch_size=6, shuffle=True, num_workers=2)\n",
    "\n",
    "testset = dt.MNIST(root='./dataset', train=False, download=True, transform=transform)\n",
    "testloader = DataLoader(testset, batch_size=6, shuffle=False, num_workers=2)"
   ]
  },
  {
   "cell_type": "code",
   "execution_count": 5,
   "metadata": {},
   "outputs": [],
   "source": [
    "class MLPOne(nn.Module):\n",
    "    def __init__(self):\n",
    "        super(MLPOne, self).__init__()\n",
    "        self.fc1 = nn.Linear(784, 512)\n",
    "        self.fc2 = nn.Linear(512, 512)\n",
    "        self.fc3 = nn.Linear(512, 198)\n",
    "        self.fc4 = nn.Linear(198, 10)\n",
    "        self.dropout = nn.Dropout(0.1)\n",
    "\n",
    "    def forward(self, x):\n",
    "        x = x.view(-1, 28*28)\n",
    "        x = F.relu(self.fc1(x))\n",
    "        x = self.dropout(x)\n",
    "        x = F.relu(self.fc2(x))\n",
    "        x = self.dropout(x)\n",
    "        x = F.relu(self.fc3(x))\n",
    "        x = self.dropout(x)\n",
    "        x = F.relu(self.fc4(x))\n",
    "        \n",
    "        return x"
   ]
  },
  {
   "cell_type": "code",
   "execution_count": 6,
   "metadata": {},
   "outputs": [],
   "source": [
    "model = MLPOne()\n",
    "opt = nu.getSGDOptim(model, lr=0.05)\n",
    "loss_func = F.cross_entropy"
   ]
  },
  {
   "cell_type": "code",
   "execution_count": 7,
   "metadata": {
    "scrolled": true
   },
   "outputs": [
    {
     "name": "stdout",
     "output_type": "stream",
     "text": [
      "Train Epoch: 0 [0%] \tLoss: 2.303510\n",
      "Train Epoch: 0 [10%] \tLoss: 1.751370\n",
      "Train Epoch: 0 [20%] \tLoss: 0.011371\n",
      "Train Epoch: 0 [30%] \tLoss: 0.234529\n",
      "Train Epoch: 0 [40%] \tLoss: 0.135738\n",
      "Train Epoch: 0 [50%] \tLoss: 0.001735\n",
      "Train Epoch: 0 [60%] \tLoss: 0.501615\n",
      "Train Epoch: 0 [70%] \tLoss: 0.203827\n",
      "Train Epoch: 0 [80%] \tLoss: 0.695791\n",
      "Train Epoch: 0 [90%] \tLoss: 0.006040\n",
      "Train Epoch: 1 [0%] \tLoss: 0.000400\n",
      "Train Epoch: 1 [10%] \tLoss: 0.185466\n",
      "Train Epoch: 1 [20%] \tLoss: 0.002819\n",
      "Train Epoch: 1 [30%] \tLoss: 1.036657\n",
      "Train Epoch: 1 [40%] \tLoss: 0.001731\n",
      "Train Epoch: 1 [50%] \tLoss: 0.024267\n",
      "Train Epoch: 1 [60%] \tLoss: 0.181837\n",
      "Train Epoch: 1 [70%] \tLoss: 0.278321\n",
      "Train Epoch: 1 [80%] \tLoss: 0.546030\n",
      "Train Epoch: 1 [90%] \tLoss: 0.006599\n"
     ]
    }
   ],
   "source": [
    "nu.fit(2, model, loss_func, opt, trainloader)"
   ]
  },
  {
   "cell_type": "code",
   "execution_count": 8,
   "metadata": {},
   "outputs": [
    {
     "name": "stdout",
     "output_type": "stream",
     "text": [
      "\n",
      "Test set: Avg. loss: 0.0200, Accuracy: 9671/10000         (97%)\n",
      "\n"
     ]
    }
   ],
   "source": [
    "nu.test(model, loss_func, testloader)"
   ]
  },
  {
   "cell_type": "code",
   "execution_count": null,
   "metadata": {},
   "outputs": [],
   "source": []
  }
 ],
 "metadata": {
  "kernelspec": {
   "display_name": "Python 3",
   "language": "python",
   "name": "python3"
  },
  "language_info": {
   "codemirror_mode": {
    "name": "ipython",
    "version": 3
   },
   "file_extension": ".py",
   "mimetype": "text/x-python",
   "name": "python",
   "nbconvert_exporter": "python",
   "pygments_lexer": "ipython3",
   "version": "3.8.5"
  }
 },
 "nbformat": 4,
 "nbformat_minor": 5
}
