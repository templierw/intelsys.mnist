{
 "cells": [
  {
   "cell_type": "markdown",
   "id": "cooked-degree",
   "metadata": {},
   "source": [
    "# MNIST MLP models"
   ]
  },
  {
   "cell_type": "code",
   "execution_count": 1,
   "id": "detailed-bandwidth",
   "metadata": {},
   "outputs": [
    {
     "data": {
      "text/html": [
       "<div>\n",
       "<style scoped>\n",
       "    .dataframe tbody tr th:only-of-type {\n",
       "        vertical-align: middle;\n",
       "    }\n",
       "\n",
       "    .dataframe tbody tr th {\n",
       "        vertical-align: top;\n",
       "    }\n",
       "\n",
       "    .dataframe thead th {\n",
       "        text-align: right;\n",
       "    }\n",
       "</style>\n",
       "<table border=\"1\" class=\"dataframe\">\n",
       "  <thead>\n",
       "    <tr style=\"text-align: right;\">\n",
       "      <th></th>\n",
       "      <th>epoch</th>\n",
       "      <th>loss</th>\n",
       "      <th>val_loss</th>\n",
       "      <th>accuracy</th>\n",
       "      <th>val_accuracy</th>\n",
       "    </tr>\n",
       "  </thead>\n",
       "  <tbody>\n",
       "    <tr>\n",
       "      <th>0</th>\n",
       "      <td>1</td>\n",
       "      <td>0.4848</td>\n",
       "      <td>0.2221</td>\n",
       "      <td>0.8552</td>\n",
       "      <td>0.9362</td>\n",
       "    </tr>\n",
       "    <tr>\n",
       "      <th>1</th>\n",
       "      <td>2</td>\n",
       "      <td>0.3286</td>\n",
       "      <td>0.1908</td>\n",
       "      <td>0.9028</td>\n",
       "      <td>0.9445</td>\n",
       "    </tr>\n",
       "    <tr>\n",
       "      <th>2</th>\n",
       "      <td>3</td>\n",
       "      <td>0.2593</td>\n",
       "      <td>0.1679</td>\n",
       "      <td>0.9238</td>\n",
       "      <td>0.9509</td>\n",
       "    </tr>\n",
       "    <tr>\n",
       "      <th>3</th>\n",
       "      <td>4</td>\n",
       "      <td>0.2178</td>\n",
       "      <td>0.1527</td>\n",
       "      <td>0.9365</td>\n",
       "      <td>0.9551</td>\n",
       "    </tr>\n",
       "    <tr>\n",
       "      <th>4</th>\n",
       "      <td>5</td>\n",
       "      <td>0.1892</td>\n",
       "      <td>0.1415</td>\n",
       "      <td>0.9450</td>\n",
       "      <td>0.9581</td>\n",
       "    </tr>\n",
       "  </tbody>\n",
       "</table>\n",
       "</div>"
      ],
      "text/plain": [
       "   epoch    loss  val_loss  accuracy  val_accuracy\n",
       "0      1  0.4848    0.2221    0.8552        0.9362\n",
       "1      2  0.3286    0.1908    0.9028        0.9445\n",
       "2      3  0.2593    0.1679    0.9238        0.9509\n",
       "3      4  0.2178    0.1527    0.9365        0.9551\n",
       "4      5  0.1892    0.1415    0.9450        0.9581"
      ]
     },
     "execution_count": 1,
     "metadata": {},
     "output_type": "execute_result"
    }
   ],
   "source": [
    "import pandas as pd\n",
    "import matplotlib.pyplot as plt\n",
    "\n",
    "res = pd.read_csv('results/one.csv', index_col=0, usecols=[0,2,3,4,5,6])\n",
    "res.head()"
   ]
  },
  {
   "cell_type": "code",
   "execution_count": 2,
   "id": "auburn-internet",
   "metadata": {},
   "outputs": [
    {
     "data": {
      "image/png": "[encoded data removed]",
      "text/plain": [
       "<Figure size 432x288 with 1 Axes>"
      ]
     },
     "metadata": {
      "needs_background": "light"
     },
     "output_type": "display_data"
    }
   ],
   "source": [
    "res.plot(x='epoch', y=['loss', 'val_loss'])\n",
    "plt.show()"
   ]
  },
  {
   "cell_type": "code",
   "execution_count": 3,
   "id": "metallic-speaker",
   "metadata": {},
   "outputs": [
    {
     "data": {
      "image/png": "[encoded data removed]",
      "text/plain": [
       "<Figure size 432x288 with 1 Axes>"
      ]
     },
     "metadata": {
      "needs_background": "light"
     },
     "output_type": "display_data"
    }
   ],
   "source": [
    "res.plot(x='epoch', y=['accuracy', 'val_accuracy'])\n",
    "plt.show()"
   ]
  },
  {
   "cell_type": "code",
   "execution_count": 4,
   "id": "elementary-astrology",
   "metadata": {},
   "outputs": [
    {
     "data": {
      "text/plain": [
       "MLPOne(\n",
       "  (fc1): Linear(in_features=784, out_features=392, bias=True)\n",
       "  (fc2): Linear(in_features=392, out_features=10, bias=True)\n",
       ")"
      ]
     },
     "execution_count": 4,
     "metadata": {},
     "output_type": "execute_result"
    }
   ],
   "source": [
    "import helpers.mnist_loader as mld\n",
    "import helpers.evaluation as e\n",
    "from models.MLP import MLPOne\n",
    "\n",
    "t_set, v_set, hb_set = mld.loadMNISTDatasets()\n",
    "_,_, hb_loader = mld.getMNISTLoaders([t_set, v_set, hb_set], batch_size=32)\n",
    "\n",
    "mlp = e.loadModel(modelClass=MLPOne(),   name=\"MLPOne\")\n",
    "mlp"
   ]
  },
  {
   "cell_type": "code",
   "execution_count": 5,
   "id": "silent-balloon",
   "metadata": {},
   "outputs": [
    {
     "name": "stdout",
     "output_type": "stream",
     "text": [
      "\n",
      "HoldBackSet: Avg. loss: 0.0023, Accuracy: 0.9819 (98.2%)\n",
      "\n"
     ]
    }
   ],
   "source": [
    "from torch.nn.functional import cross_entropy\n",
    "\n",
    "e.validate(mlp, cross_entropy, hb_loader);"
   ]
  },
  {
   "cell_type": "markdown",
   "id": "entitled-louisville",
   "metadata": {},
   "source": [
    "### Playing with parameters\n",
    "\n",
    "Using our `TrainingGuider`, we can easily play with the hyperparamters. We added a _ReLu_ activation function to the model too, the `MLPZeroReLu`.\n",
    "\n",
    "We have explored:\n",
    "\n",
    "- Training rate: 0.01, 0.05, 0.1\n",
    "- Batch size: 32, 64\n",
    "\n",
    "We reduced the number of epochs to 40, since the gain from more was negligeable and we also care for the planet.\n"
   ]
  },
  {
   "cell_type": "code",
   "execution_count": 6,
   "id": "incomplete-synthesis",
   "metadata": {},
   "outputs": [
    {
     "data": {
      "text/html": [
       "<div>\n",
       "<style scoped>\n",
       "    .dataframe tbody tr th:only-of-type {\n",
       "        vertical-align: middle;\n",
       "    }\n",
       "\n",
       "    .dataframe tbody tr th {\n",
       "        vertical-align: top;\n",
       "    }\n",
       "\n",
       "    .dataframe thead th {\n",
       "        text-align: right;\n",
       "    }\n",
       "</style>\n",
       "<table border=\"1\" class=\"dataframe\">\n",
       "  <thead>\n",
       "    <tr style=\"text-align: right;\">\n",
       "      <th></th>\n",
       "      <th>case</th>\n",
       "      <th>epoch</th>\n",
       "      <th>loss</th>\n",
       "      <th>val_loss</th>\n",
       "      <th>accuracy</th>\n",
       "      <th>val_accuracy</th>\n",
       "      <th>learning_rate</th>\n",
       "      <th>batch_size</th>\n",
       "      <th>optimizer</th>\n",
       "      <th>model</th>\n",
       "    </tr>\n",
       "  </thead>\n",
       "  <tbody>\n",
       "    <tr>\n",
       "      <th>0</th>\n",
       "      <td>1</td>\n",
       "      <td>1</td>\n",
       "      <td>0.3837</td>\n",
       "      <td>0.3140</td>\n",
       "      <td>0.8906</td>\n",
       "      <td>0.9114</td>\n",
       "      <td>0.02</td>\n",
       "      <td>32</td>\n",
       "      <td>sgd</td>\n",
       "      <td>MLPZero</td>\n",
       "    </tr>\n",
       "    <tr>\n",
       "      <th>1</th>\n",
       "      <td>1</td>\n",
       "      <td>2</td>\n",
       "      <td>0.3447</td>\n",
       "      <td>0.3044</td>\n",
       "      <td>0.9013</td>\n",
       "      <td>0.9141</td>\n",
       "      <td>0.02</td>\n",
       "      <td>32</td>\n",
       "      <td>sgd</td>\n",
       "      <td>MLPZero</td>\n",
       "    </tr>\n",
       "    <tr>\n",
       "      <th>2</th>\n",
       "      <td>1</td>\n",
       "      <td>3</td>\n",
       "      <td>0.3274</td>\n",
       "      <td>0.3008</td>\n",
       "      <td>0.9064</td>\n",
       "      <td>0.9142</td>\n",
       "      <td>0.02</td>\n",
       "      <td>32</td>\n",
       "      <td>sgd</td>\n",
       "      <td>MLPZero</td>\n",
       "    </tr>\n",
       "    <tr>\n",
       "      <th>3</th>\n",
       "      <td>1</td>\n",
       "      <td>4</td>\n",
       "      <td>0.3168</td>\n",
       "      <td>0.2993</td>\n",
       "      <td>0.9099</td>\n",
       "      <td>0.9151</td>\n",
       "      <td>0.02</td>\n",
       "      <td>32</td>\n",
       "      <td>sgd</td>\n",
       "      <td>MLPZero</td>\n",
       "    </tr>\n",
       "    <tr>\n",
       "      <th>4</th>\n",
       "      <td>1</td>\n",
       "      <td>5</td>\n",
       "      <td>0.3093</td>\n",
       "      <td>0.2958</td>\n",
       "      <td>0.9123</td>\n",
       "      <td>0.9159</td>\n",
       "      <td>0.02</td>\n",
       "      <td>32</td>\n",
       "      <td>sgd</td>\n",
       "      <td>MLPZero</td>\n",
       "    </tr>\n",
       "  </tbody>\n",
       "</table>\n",
       "</div>"
      ],
      "text/plain": [
       "   case  epoch    loss  val_loss  accuracy  val_accuracy  learning_rate  \\\n",
       "0     1      1  0.3837    0.3140    0.8906        0.9114           0.02   \n",
       "1     1      2  0.3447    0.3044    0.9013        0.9141           0.02   \n",
       "2     1      3  0.3274    0.3008    0.9064        0.9142           0.02   \n",
       "3     1      4  0.3168    0.2993    0.9099        0.9151           0.02   \n",
       "4     1      5  0.3093    0.2958    0.9123        0.9159           0.02   \n",
       "\n",
       "   batch_size optimizer    model  \n",
       "0          32       sgd  MLPZero  \n",
       "1          32       sgd  MLPZero  \n",
       "2          32       sgd  MLPZero  \n",
       "3          32       sgd  MLPZero  \n",
       "4          32       sgd  MLPZero  "
      ]
     },
     "execution_count": 6,
     "metadata": {},
     "output_type": "execute_result"
    }
   ],
   "source": [
    "res = pd.read_csv('./results/zero_params.csv', index_col=0)\n",
    "res.head()"
   ]
  },
  {
   "cell_type": "code",
   "execution_count": 7,
   "id": "atomic-official",
   "metadata": {},
   "outputs": [],
   "source": [
    "subres = res[(res.case == 7) | (res.case == 1)]"
   ]
  },
  {
   "cell_type": "code",
   "execution_count": 8,
   "id": "dental-diabetes",
   "metadata": {},
   "outputs": [
    {
     "data": {
      "image/png": "[encoded data removed]",
      "text/plain": [
       "<Figure size 432x288 with 1 Axes>"
      ]
     },
     "metadata": {
      "needs_background": "light"
     },
     "output_type": "display_data"
    }
   ],
   "source": [
    "mz = subres[(subres.model == 'MLPZero')]\n",
    "mzr = subres[(subres.model == 'MLPZeroReLu')]\n",
    "x =  mz.epoch\n",
    "# plotting the line 1 points \n",
    "plt.plot(x, mz.accuracy, label = \"MLPZero train\")\n",
    "plt.plot(x, mz.val_accuracy, label = \"MLPZero val\")\n",
    "plt.plot(x, mzr.accuracy, label = \"MLPZeroReLu train\")\n",
    "plt.plot(x, mzr.val_accuracy, label = \"MLPZeroReLu val\")\n",
    "\n",
    "plt.xlabel('Epoch')\n",
    "plt.ylabel('Accuracy')\n",
    "plt.legend()\n",
    "plt.show();"
   ]
  },
  {
   "cell_type": "markdown",
   "id": "stopped-worry",
   "metadata": {},
   "source": []
  },
  {
   "cell_type": "code",
   "execution_count": 9,
   "id": "impressed-dallas",
   "metadata": {},
   "outputs": [
    {
     "data": {
      "image/png": "[encoded data removed]",
      "text/plain": [
       "<Figure size 432x288 with 1 Axes>"
      ]
     },
     "metadata": {
      "needs_background": "light"
     },
     "output_type": "display_data"
    }
   ],
   "source": [
    "plt.plot(x, mz.loss, label = \"MLPZero train\")\n",
    "plt.plot(x, mz.val_loss, label = \"MLPZero val\")\n",
    "plt.plot(x, mzr.loss, label = \"MLPZeroReLu train\")\n",
    "plt.plot(x, mzr.val_loss, label = \"MLPZeroReLu val\")\n",
    "\n",
    "plt.xlabel('Epoch')\n",
    "plt.ylabel('Loss')\n",
    "plt.legend()\n",
    "plt.show();"
   ]
  },
  {
   "cell_type": "code",
   "execution_count": 10,
   "id": "enhanced-finder",
   "metadata": {},
   "outputs": [],
   "source": [
    "subres = res[(res.case == 1) | (res.case == 2)]"
   ]
  },
  {
   "cell_type": "markdown",
   "id": "spread-scout",
   "metadata": {},
   "source": [
    "## MLPOne\n",
    "\n",
    "Trained with:\n",
    "\n",
    "- Learning rate: 0.01, 0.04, 0.07\n",
    "- Batch size: 64, 128"
   ]
  },
  {
   "cell_type": "code",
   "execution_count": 11,
   "id": "invalid-transmission",
   "metadata": {},
   "outputs": [
    {
     "data": {
      "text/html": [
       "<div>\n",
       "<style scoped>\n",
       "    .dataframe tbody tr th:only-of-type {\n",
       "        vertical-align: middle;\n",
       "    }\n",
       "\n",
       "    .dataframe tbody tr th {\n",
       "        vertical-align: top;\n",
       "    }\n",
       "\n",
       "    .dataframe thead th {\n",
       "        text-align: right;\n",
       "    }\n",
       "</style>\n",
       "<table border=\"1\" class=\"dataframe\">\n",
       "  <thead>\n",
       "    <tr style=\"text-align: right;\">\n",
       "      <th></th>\n",
       "      <th>epoch</th>\n",
       "      <th>loss</th>\n",
       "      <th>val_loss</th>\n",
       "      <th>accuracy</th>\n",
       "      <th>val_accuracy</th>\n",
       "      <th>learning_rate</th>\n",
       "      <th>batch_size</th>\n",
       "    </tr>\n",
       "  </thead>\n",
       "  <tbody>\n",
       "    <tr>\n",
       "      <th>399</th>\n",
       "      <td>80</td>\n",
       "      <td>0.0135</td>\n",
       "      <td>0.0734</td>\n",
       "      <td>0.9967</td>\n",
       "      <td>0.9800</td>\n",
       "      <td>0.07</td>\n",
       "      <td>64</td>\n",
       "    </tr>\n",
       "    <tr>\n",
       "      <th>479</th>\n",
       "      <td>80</td>\n",
       "      <td>0.0281</td>\n",
       "      <td>0.0843</td>\n",
       "      <td>0.9927</td>\n",
       "      <td>0.9767</td>\n",
       "      <td>0.07</td>\n",
       "      <td>128</td>\n",
       "    </tr>\n",
       "    <tr>\n",
       "      <th>159</th>\n",
       "      <td>80</td>\n",
       "      <td>0.0367</td>\n",
       "      <td>0.0845</td>\n",
       "      <td>0.9914</td>\n",
       "      <td>0.9750</td>\n",
       "      <td>0.04</td>\n",
       "      <td>128</td>\n",
       "    </tr>\n",
       "    <tr>\n",
       "      <th>79</th>\n",
       "      <td>80</td>\n",
       "      <td>0.2552</td>\n",
       "      <td>0.3092</td>\n",
       "      <td>0.9887</td>\n",
       "      <td>0.9730</td>\n",
       "      <td>0.04</td>\n",
       "      <td>64</td>\n",
       "    </tr>\n",
       "    <tr>\n",
       "      <th>319</th>\n",
       "      <td>80</td>\n",
       "      <td>0.1092</td>\n",
       "      <td>0.1312</td>\n",
       "      <td>0.9710</td>\n",
       "      <td>0.9624</td>\n",
       "      <td>0.01</td>\n",
       "      <td>128</td>\n",
       "    </tr>\n",
       "    <tr>\n",
       "      <th>239</th>\n",
       "      <td>80</td>\n",
       "      <td>0.1459</td>\n",
       "      <td>0.1779</td>\n",
       "      <td>0.9523</td>\n",
       "      <td>0.9408</td>\n",
       "      <td>0.01</td>\n",
       "      <td>64</td>\n",
       "    </tr>\n",
       "  </tbody>\n",
       "</table>\n",
       "</div>"
      ],
      "text/plain": [
       "     epoch    loss  val_loss  accuracy  val_accuracy  learning_rate  \\\n",
       "399     80  0.0135    0.0734    0.9967        0.9800           0.07   \n",
       "479     80  0.0281    0.0843    0.9927        0.9767           0.07   \n",
       "159     80  0.0367    0.0845    0.9914        0.9750           0.04   \n",
       "79      80  0.2552    0.3092    0.9887        0.9730           0.04   \n",
       "319     80  0.1092    0.1312    0.9710        0.9624           0.01   \n",
       "239     80  0.1459    0.1779    0.9523        0.9408           0.01   \n",
       "\n",
       "     batch_size  \n",
       "399          64  \n",
       "479         128  \n",
       "159         128  \n",
       "79           64  \n",
       "319         128  \n",
       "239          64  "
      ]
     },
     "execution_count": 11,
     "metadata": {},
     "output_type": "execute_result"
    }
   ],
   "source": [
    "res = pd.read_csv('results/one_params.csv', index_col=0, usecols=[0,2,3,4,5,6,7,8])\n",
    "res[res.epoch == 80].sort_values(by=['val_accuracy'], ascending=False)"
   ]
  },
  {
   "cell_type": "code",
   "execution_count": 12,
   "id": "instant-remedy",
   "metadata": {},
   "outputs": [
    {
     "data": {
      "text/plain": [
       "<AxesSubplot:xlabel='epoch'>"
      ]
     },
     "execution_count": 12,
     "metadata": {},
     "output_type": "execute_result"
    },
    {
     "data": {
      "image/png": "[encoded data removed]",
      "text/plain": [
       "<Figure size 432x288 with 1 Axes>"
      ]
     },
     "metadata": {
      "needs_background": "light"
     },
     "output_type": "display_data"
    },
    {
     "data": {
      "image/png": "[encoded data removed]",
      "text/plain": [
       "<Figure size 432x288 with 1 Axes>"
      ]
     },
     "metadata": {
      "needs_background": "light"
     },
     "output_type": "display_data"
    }
   ],
   "source": [
    "best_one = res[(res.learning_rate == 0.07) & (res.batch_size == 64)]\n",
    "best_one.plot(x='epoch', y=['loss', 'val_loss'])\n",
    "best_one.plot(x='epoch', y=['accuracy', 'val_accuracy'])"
   ]
  },
  {
   "cell_type": "code",
   "execution_count": 13,
   "id": "collective-equation",
   "metadata": {},
   "outputs": [
    {
     "name": "stdout",
     "output_type": "stream",
     "text": [
      "\n",
      "HoldBackSet: Avg. loss: 0.0021, Accuracy: 0.9801 (98.0%)\n",
      "\n",
      "\n",
      "HoldBackSet: Avg. loss: 0.0092, Accuracy: 0.9779 (97.8%)\n",
      "\n",
      "\n",
      "HoldBackSet: Avg. loss: 0.0023, Accuracy: 0.9819 (98.2%)\n",
      "\n",
      "\n",
      "HoldBackSet: Avg. loss: 0.0024, Accuracy: 0.9763 (97.6%)\n",
      "\n",
      "\n",
      "HoldBackSet: Avg. loss: 0.0021, Accuracy: 0.9802 (98.0%)\n",
      "\n",
      "\n",
      "HoldBackSet: Avg. loss: 0.0022, Accuracy: 0.98 (98.0%)\n",
      "\n"
     ]
    }
   ],
   "source": [
    "one1 = e.loadModel(modelClass=MLPOne(),   name=\"model_MLPOne_learning_rate_0.01_batch_size_64_optimizer_sgd\")\n",
    "one2 = e.loadModel(modelClass=MLPOne(),   name=\"model_MLPOne_learning_rate_0.04_batch_size_64_optimizer_sgd\")\n",
    "one3 = e.loadModel(modelClass=MLPOne(),   name=\"model_MLPOne_learning_rate_0.07_batch_size_64_optimizer_sgd\")\n",
    "one4 = e.loadModel(modelClass=MLPOne(),   name=\"model_MLPOne_learning_rate_0.01_batch_size_128_optimizer_sgd\")\n",
    "one5 = e.loadModel(modelClass=MLPOne(),   name=\"model_MLPOne_learning_rate_0.04_batch_size_128_optimizer_sgd\")\n",
    "one6 = e.loadModel(modelClass=MLPOne(),   name=\"model_MLPOne_learning_rate_0.07_batch_size_128_optimizer_sgd\")\n",
    "\n",
    "e.validate(one1, cross_entropy, hb_loader);\n",
    "e.validate(one2, cross_entropy, hb_loader);\n",
    "e.validate(one3, cross_entropy, hb_loader);\n",
    "e.validate(one4, cross_entropy, hb_loader);\n",
    "e.validate(one5, cross_entropy, hb_loader);\n",
    "e.validate(one6, cross_entropy, hb_loader);\n"
   ]
  },
  {
   "cell_type": "markdown",
   "id": "judicial-worcester",
   "metadata": {},
   "source": [
    "## MLPTwo\n",
    "\n",
    "![MLPTwo](./report/mlp_two/architectureTwo.png)"
   ]
  },
  {
   "cell_type": "code",
   "execution_count": 14,
   "id": "adolescent-constitution",
   "metadata": {},
   "outputs": [
    {
     "data": {
      "text/html": [
       "<div>\n",
       "<style scoped>\n",
       "    .dataframe tbody tr th:only-of-type {\n",
       "        vertical-align: middle;\n",
       "    }\n",
       "\n",
       "    .dataframe tbody tr th {\n",
       "        vertical-align: top;\n",
       "    }\n",
       "\n",
       "    .dataframe thead th {\n",
       "        text-align: right;\n",
       "    }\n",
       "</style>\n",
       "<table border=\"1\" class=\"dataframe\">\n",
       "  <thead>\n",
       "    <tr style=\"text-align: right;\">\n",
       "      <th></th>\n",
       "      <th>epoch</th>\n",
       "      <th>loss</th>\n",
       "      <th>val_loss</th>\n",
       "      <th>accuracy</th>\n",
       "      <th>val_accuracy</th>\n",
       "    </tr>\n",
       "  </thead>\n",
       "  <tbody>\n",
       "    <tr>\n",
       "      <th>0</th>\n",
       "      <td>1</td>\n",
       "      <td>0.4411</td>\n",
       "      <td>0.1820</td>\n",
       "      <td>0.8686</td>\n",
       "      <td>0.9447</td>\n",
       "    </tr>\n",
       "    <tr>\n",
       "      <th>1</th>\n",
       "      <td>2</td>\n",
       "      <td>0.2879</td>\n",
       "      <td>0.1502</td>\n",
       "      <td>0.9141</td>\n",
       "      <td>0.9535</td>\n",
       "    </tr>\n",
       "    <tr>\n",
       "      <th>2</th>\n",
       "      <td>3</td>\n",
       "      <td>0.2211</td>\n",
       "      <td>0.1318</td>\n",
       "      <td>0.9340</td>\n",
       "      <td>0.9589</td>\n",
       "    </tr>\n",
       "    <tr>\n",
       "      <th>3</th>\n",
       "      <td>4</td>\n",
       "      <td>0.1816</td>\n",
       "      <td>0.1216</td>\n",
       "      <td>0.9459</td>\n",
       "      <td>0.9621</td>\n",
       "    </tr>\n",
       "    <tr>\n",
       "      <th>4</th>\n",
       "      <td>5</td>\n",
       "      <td>0.1545</td>\n",
       "      <td>0.1133</td>\n",
       "      <td>0.9541</td>\n",
       "      <td>0.9648</td>\n",
       "    </tr>\n",
       "  </tbody>\n",
       "</table>\n",
       "</div>"
      ],
      "text/plain": [
       "   epoch    loss  val_loss  accuracy  val_accuracy\n",
       "0      1  0.4411    0.1820    0.8686        0.9447\n",
       "1      2  0.2879    0.1502    0.9141        0.9535\n",
       "2      3  0.2211    0.1318    0.9340        0.9589\n",
       "3      4  0.1816    0.1216    0.9459        0.9621\n",
       "4      5  0.1545    0.1133    0.9541        0.9648"
      ]
     },
     "execution_count": 14,
     "metadata": {},
     "output_type": "execute_result"
    }
   ],
   "source": [
    "res = pd.read_csv('results/two.csv', index_col=0, usecols=[0,2,3,4,5,6])\n",
    "res.head()"
   ]
  },
  {
   "cell_type": "code",
   "execution_count": null,
   "id": "e3dc955a",
   "metadata": {},
   "outputs": [],
   "source": []
  }
 ],
 "metadata": {
  "kernelspec": {
   "display_name": "Python 3",
   "language": "python",
   "name": "python3"
  },
  "language_info": {
   "codemirror_mode": {
    "name": "ipython",
    "version": 3
   },
   "file_extension": ".py",
   "mimetype": "text/x-python",
   "name": "python",
   "nbconvert_exporter": "python",
   "pygments_lexer": "ipython3",
   "version": "3.8.8"
  }
 },
 "nbformat": 4,
 "nbformat_minor": 5
}
