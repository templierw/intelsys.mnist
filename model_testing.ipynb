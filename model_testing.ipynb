{
 "cells": [
  {
   "cell_type": "markdown",
   "metadata": {},
   "source": [
    "# Models testing\n",
    "\n",
    "Models are defined in `Models.py`\n",
    "\n",
    "They must be specified by a \"string\" name, which corresponds to the actual Class' name\n",
    "\n",
    "```\n",
    "\"MLPOne\" --> Models.MLPOne\n",
    "```"
   ]
  },
  {
   "cell_type": "code",
   "execution_count": 1,
   "metadata": {},
   "outputs": [
    {
     "output_type": "stream",
     "name": "stderr",
     "text": [
      "/home/william/.local/lib/python3.8/site-packages/torch/cuda/__init__.py:52: UserWarning: CUDA initialization: Found no NVIDIA driver on your system. Please check that you have an NVIDIA GPU and installed a driver from http://www.nvidia.com/Download/index.aspx (Triggered internally at  /pytorch/c10/cuda/CUDAFunctions.cpp:100.)\n  return torch._C._cuda_getDeviceCount() > 0\n"
     ]
    }
   ],
   "source": [
    "import torch\n",
    "import helpers.NNUtils as nnu\n",
    "from collections import OrderedDict\n",
    "from helpers.run import RunManager\n",
    "import torch.nn.functional as F\n",
    "\n",
    "torch.manual_seed(1976)\n",
    "\n",
    "train_dataset, test_dataset, val_dataset = nnu.loadMNISTDatasets()"
   ]
  },
  {
   "cell_type": "code",
   "execution_count": 2,
   "metadata": {},
   "outputs": [
    {
     "output_type": "display_data",
     "data": {
      "text/plain": "   run  epoch      loss   valLoss  accuracy  accuracy_val   model    lr  \\\n0    1      1  0.735753  0.508945  0.792667        0.8369  MLPOne  0.05   \n1    1      2  0.485498  0.446848  0.840350        0.8500  MLPOne  0.05   \n2    1      3  0.438159  0.419013  0.851833        0.8548  MLPOne  0.05   \n3    1      4  0.407880  0.395923  0.859500        0.8606  MLPOne  0.05   \n4    1      5  0.385828  0.380720  0.864933        0.8662  MLPOne  0.05   \n5    1      6  0.368933  0.364351  0.869283        0.8688  MLPOne  0.05   \n6    1      7  0.214144  0.145164  0.932783        0.9582  MLPOne  0.05   \n7    1      8  0.134871  0.133041  0.962700        0.9601  MLPOne  0.05   \n8    1      9  0.121465  0.119857  0.966200        0.9648  MLPOne  0.05   \n9    1     10  0.110595  0.113490  0.970167        0.9651  MLPOne  0.05   \n\n   batch_size optim  \n0         256   sgd  \n1         256   sgd  \n2         256   sgd  \n3         256   sgd  \n4         256   sgd  \n5         256   sgd  \n6         256   sgd  \n7         256   sgd  \n8         256   sgd  \n9         256   sgd  ",
      "text/html": "<div>\n<style scoped>\n    .dataframe tbody tr th:only-of-type {\n        vertical-align: middle;\n    }\n\n    .dataframe tbody tr th {\n        vertical-align: top;\n    }\n\n    .dataframe thead th {\n        text-align: right;\n    }\n</style>\n<table border=\"1\" class=\"dataframe\">\n  <thead>\n    <tr style=\"text-align: right;\">\n      <th></th>\n      <th>run</th>\n      <th>epoch</th>\n      <th>loss</th>\n      <th>valLoss</th>\n      <th>accuracy</th>\n      <th>accuracy_val</th>\n      <th>model</th>\n      <th>lr</th>\n      <th>batch_size</th>\n      <th>optim</th>\n    </tr>\n  </thead>\n  <tbody>\n    <tr>\n      <th>0</th>\n      <td>1</td>\n      <td>1</td>\n      <td>0.735753</td>\n      <td>0.508945</td>\n      <td>0.792667</td>\n      <td>0.8369</td>\n      <td>MLPOne</td>\n      <td>0.05</td>\n      <td>256</td>\n      <td>sgd</td>\n    </tr>\n    <tr>\n      <th>1</th>\n      <td>1</td>\n      <td>2</td>\n      <td>0.485498</td>\n      <td>0.446848</td>\n      <td>0.840350</td>\n      <td>0.8500</td>\n      <td>MLPOne</td>\n      <td>0.05</td>\n      <td>256</td>\n      <td>sgd</td>\n    </tr>\n    <tr>\n      <th>2</th>\n      <td>1</td>\n      <td>3</td>\n      <td>0.438159</td>\n      <td>0.419013</td>\n      <td>0.851833</td>\n      <td>0.8548</td>\n      <td>MLPOne</td>\n      <td>0.05</td>\n      <td>256</td>\n      <td>sgd</td>\n    </tr>\n    <tr>\n      <th>3</th>\n      <td>1</td>\n      <td>4</td>\n      <td>0.407880</td>\n      <td>0.395923</td>\n      <td>0.859500</td>\n      <td>0.8606</td>\n      <td>MLPOne</td>\n      <td>0.05</td>\n      <td>256</td>\n      <td>sgd</td>\n    </tr>\n    <tr>\n      <th>4</th>\n      <td>1</td>\n      <td>5</td>\n      <td>0.385828</td>\n      <td>0.380720</td>\n      <td>0.864933</td>\n      <td>0.8662</td>\n      <td>MLPOne</td>\n      <td>0.05</td>\n      <td>256</td>\n      <td>sgd</td>\n    </tr>\n    <tr>\n      <th>5</th>\n      <td>1</td>\n      <td>6</td>\n      <td>0.368933</td>\n      <td>0.364351</td>\n      <td>0.869283</td>\n      <td>0.8688</td>\n      <td>MLPOne</td>\n      <td>0.05</td>\n      <td>256</td>\n      <td>sgd</td>\n    </tr>\n    <tr>\n      <th>6</th>\n      <td>1</td>\n      <td>7</td>\n      <td>0.214144</td>\n      <td>0.145164</td>\n      <td>0.932783</td>\n      <td>0.9582</td>\n      <td>MLPOne</td>\n      <td>0.05</td>\n      <td>256</td>\n      <td>sgd</td>\n    </tr>\n    <tr>\n      <th>7</th>\n      <td>1</td>\n      <td>8</td>\n      <td>0.134871</td>\n      <td>0.133041</td>\n      <td>0.962700</td>\n      <td>0.9601</td>\n      <td>MLPOne</td>\n      <td>0.05</td>\n      <td>256</td>\n      <td>sgd</td>\n    </tr>\n    <tr>\n      <th>8</th>\n      <td>1</td>\n      <td>9</td>\n      <td>0.121465</td>\n      <td>0.119857</td>\n      <td>0.966200</td>\n      <td>0.9648</td>\n      <td>MLPOne</td>\n      <td>0.05</td>\n      <td>256</td>\n      <td>sgd</td>\n    </tr>\n    <tr>\n      <th>9</th>\n      <td>1</td>\n      <td>10</td>\n      <td>0.110595</td>\n      <td>0.113490</td>\n      <td>0.970167</td>\n      <td>0.9651</td>\n      <td>MLPOne</td>\n      <td>0.05</td>\n      <td>256</td>\n      <td>sgd</td>\n    </tr>\n  </tbody>\n</table>\n</div>"
     },
     "metadata": {}
    }
   ],
   "source": [
    "from collections import OrderedDict\n",
    "from helpers.run import RunManager\n",
    "import torch.nn.functional as F\n",
    "\n",
    "params = OrderedDict(\n",
    "    model = [\"MLPOne\"],\n",
    "    lr = [.05],\n",
    "    batch_size = [256],\n",
    "    optim = [\"sgd\"]\n",
    ")\n",
    "\n",
    "loss_fn = F.cross_entropy\n",
    "\n",
    "rm = RunManager(name=\"img_test2\")\n",
    "rm.fit(10, params, loss_fn, train_dataset, val_dataset)"
   ]
  }
 ],
 "metadata": {
  "kernelspec": {
   "display_name": "Python 3",
   "language": "python",
   "name": "python3"
  },
  "language_info": {
   "codemirror_mode": {
    "name": "ipython",
    "version": 3
   },
   "file_extension": ".py",
   "mimetype": "text/x-python",
   "name": "python",
   "nbconvert_exporter": "python",
   "pygments_lexer": "ipython3",
   "version": "3.8.5-final"
  }
 },
 "nbformat": 4,
 "nbformat_minor": 2
}