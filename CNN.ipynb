{
 "cells": [
  {
   "cell_type": "markdown",
   "metadata": {},
   "source": [
    "# MNIST CNN models"
   ]
  },
  {
   "cell_type": "code",
   "execution_count": 1,
   "metadata": {},
   "outputs": [],
   "source": [
    "import torch\n",
    "import torch.nn as nn\n",
    "import torch.nn.functional as F\n",
    "\n",
    "from torch.utils.data import DataLoader\n",
    "from torchvision import datasets as dt, transforms\n",
    "\n",
    "import helpers.NNUtils as nnu\n",
    "from models import CNN"
   ]
  },
  {
   "cell_type": "code",
   "execution_count": 2,
   "metadata": {},
   "outputs": [],
   "source": [
    "device = 'cuda' if torch.cuda.is_available() else 'cpu'\n",
    "torch.manual_seed(1976);"
   ]
  },
  {
   "cell_type": "code",
   "execution_count": 3,
   "metadata": {},
   "outputs": [],
   "source": [
    "train_dataset, val_dataset, holdback_dataset = nnu.loadMNISTDatasets()\n",
    "train_loader, val_loader, holdback_loader = nnu.getMNISTLoaders([train_dataset, val_dataset, holdback_dataset],batch_size=10)"
   ]
  },
  {
   "cell_type": "code",
   "execution_count": 4,
   "metadata": {},
   "outputs": [],
   "source": [
    "model = CNN.LeNet5().to(device)\n",
    "optimizer = nnu.getSGDOptim(model, lr=0.05)\n",
    "loss_fn = F.cross_entropy"
   ]
  },
  {
   "cell_type": "code",
   "execution_count": 5,
   "metadata": {},
   "outputs": [
    {
     "name": "stdout",
     "output_type": "stream",
     "text": [
      "Train Epoch: 0 \tLoss: 0.015951 \tTest Loss: 0.023296\n",
      "Train Epoch: 1 \tLoss: 0.056606 \tTest Loss: 0.001602\n",
      "Train Epoch: 2 \tLoss: 0.027330 \tTest Loss: 0.077425\n",
      "Train Epoch: 3 \tLoss: 0.176796 \tTest Loss: 0.005680\n",
      "Train Epoch: 4 \tLoss: 0.000558 \tTest Loss: 0.000665\n",
      "Train Epoch: 5 \tLoss: 0.005796 \tTest Loss: 0.002656\n",
      "Train Epoch: 6 \tLoss: 0.002292 \tTest Loss: 0.032626\n",
      "Train Epoch: 7 \tLoss: 0.172584 \tTest Loss: 0.003116\n",
      "Train Epoch: 8 \tLoss: 0.021547 \tTest Loss: 0.007409\n",
      "Train Epoch: 9 \tLoss: 0.000134 \tTest Loss: 0.005005\n"
     ]
    }
   ],
   "source": [
    "nnu.fit(10, model, loss_fn, optimizer, train_loader, val_loader)"
   ]
  },
  {
   "cell_type": "code",
   "execution_count": 6,
   "metadata": {},
   "outputs": [
    {
     "name": "stdout",
     "output_type": "stream",
     "text": [
      "\n",
      "Validation set: Avg. loss: 0.0032, Accuracy: 0.9901 (99.0%)\n",
      "\n"
     ]
    }
   ],
   "source": [
    "nnu.validate(model, loss_fn, holdback_loader)"
   ]
  },
  {
   "cell_type": "code",
   "execution_count": 7,
   "metadata": {},
   "outputs": [],
   "source": [
    "nnu.saveModel(model, \"LeNet5\")"
   ]
  },
  {
   "cell_type": "code",
   "execution_count": 8,
   "metadata": {},
   "outputs": [],
   "source": [
    "model = CNN.LeNet5MaxPool().to(device)\n",
    "optimizer = nnu.getSGDOptim(model, lr=0.05)\n",
    "loss_fn = F.cross_entropy"
   ]
  },
  {
   "cell_type": "code",
   "execution_count": 9,
   "metadata": {},
   "outputs": [
    {
     "name": "stdout",
     "output_type": "stream",
     "text": [
      "Train Epoch: 0 \tLoss: 0.536236 \tTest Loss: 0.086099\n",
      "Train Epoch: 1 \tLoss: 0.008830 \tTest Loss: 0.155839\n",
      "Train Epoch: 2 \tLoss: 0.004963 \tTest Loss: 0.007383\n",
      "Train Epoch: 3 \tLoss: 0.000127 \tTest Loss: 0.297247\n",
      "Train Epoch: 4 \tLoss: 0.059791 \tTest Loss: 0.000554\n",
      "Train Epoch: 5 \tLoss: 0.048090 \tTest Loss: 0.015343\n",
      "Train Epoch: 6 \tLoss: 0.000351 \tTest Loss: 0.001660\n",
      "Train Epoch: 7 \tLoss: 0.000525 \tTest Loss: 0.001533\n",
      "Train Epoch: 8 \tLoss: 0.000144 \tTest Loss: 0.000615\n",
      "Train Epoch: 9 \tLoss: 0.000049 \tTest Loss: 0.000211\n"
     ]
    }
   ],
   "source": [
    "nnu.fit(10, model, loss_fn, optimizer, train_loader, val_loader)"
   ]
  },
  {
   "cell_type": "code",
   "execution_count": 10,
   "metadata": {},
   "outputs": [
    {
     "name": "stdout",
     "output_type": "stream",
     "text": [
      "\n",
      "Validation set: Avg. loss: 0.0047, Accuracy: 0.9875 (98.8%)\n",
      "\n"
     ]
    }
   ],
   "source": [
    "nnu.validate(model, loss_fn, holdback_loader)"
   ]
  },
  {
   "cell_type": "code",
   "execution_count": 11,
   "metadata": {},
   "outputs": [],
   "source": [
    "nnu.saveModel(model, \"LeNet5MaxPool\")"
   ]
  },
  {
   "cell_type": "code",
   "execution_count": 12,
   "metadata": {},
   "outputs": [],
   "source": [
    "model = CNN.LeNet5RELU().to(device)\n",
    "optimizer = nnu.getSGDOptim(model, lr=0.05)\n",
    "loss_fn = F.cross_entropy"
   ]
  },
  {
   "cell_type": "code",
   "execution_count": 13,
   "metadata": {},
   "outputs": [
    {
     "name": "stdout",
     "output_type": "stream",
     "text": [
      "Train Epoch: 0 \tLoss: 0.067625 \tTest Loss: 0.003898\n",
      "Train Epoch: 1 \tLoss: 0.003323 \tTest Loss: 0.004632\n",
      "Train Epoch: 2 \tLoss: 0.005169 \tTest Loss: 0.399263\n",
      "Train Epoch: 3 \tLoss: 0.005529 \tTest Loss: 0.001392\n",
      "Train Epoch: 4 \tLoss: 0.001229 \tTest Loss: 0.009000\n",
      "Train Epoch: 5 \tLoss: 0.003911 \tTest Loss: 0.000039\n",
      "Train Epoch: 6 \tLoss: 0.000319 \tTest Loss: 0.026433\n",
      "Train Epoch: 7 \tLoss: 0.167380 \tTest Loss: 0.019300\n",
      "Train Epoch: 8 \tLoss: 0.000969 \tTest Loss: 0.037255\n",
      "Train Epoch: 9 \tLoss: 0.012214 \tTest Loss: 0.008731\n"
     ]
    }
   ],
   "source": [
    "nnu.fit(10, model, loss_fn, optimizer, train_loader, val_loader)"
   ]
  },
  {
   "cell_type": "code",
   "execution_count": 14,
   "metadata": {},
   "outputs": [
    {
     "name": "stdout",
     "output_type": "stream",
     "text": [
      "\n",
      "Validation set: Avg. loss: 0.0061, Accuracy: 0.9849 (98.5%)\n",
      "\n"
     ]
    }
   ],
   "source": [
    "nnu.validate(model, loss_fn, holdback_loader)"
   ]
  },
  {
   "cell_type": "code",
   "execution_count": 15,
   "metadata": {},
   "outputs": [],
   "source": [
    "nnu.saveModel(model, \"LeNet5RELU\")"
   ]
  },
  {
   "cell_type": "code",
   "execution_count": null,
   "metadata": {},
   "outputs": [],
   "source": []
  }
 ],
 "metadata": {
  "kernelspec": {
   "display_name": "Python 3",
   "language": "python",
   "name": "python3"
  },
  "language_info": {
   "codemirror_mode": {
    "name": "ipython",
    "version": 3
   },
   "file_extension": ".py",
   "mimetype": "text/x-python",
   "name": "python",
   "nbconvert_exporter": "python",
   "pygments_lexer": "ipython3",
   "version": "3.8.5"
  }
 },
 "nbformat": 4,
 "nbformat_minor": 4
}
