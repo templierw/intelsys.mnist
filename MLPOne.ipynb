{
 "cells": [
  {
   "cell_type": "markdown",
   "metadata": {},
   "source": [
    "# MNIST MLP: first attempt"
   ]
  },
  {
   "cell_type": "markdown",
   "metadata": {},
   "source": [
    "#### Import libraries"
   ]
  },
  {
   "cell_type": "code",
   "execution_count": 1,
   "metadata": {},
   "outputs": [
    {
     "output_type": "stream",
     "name": "stderr",
     "text": [
      "/home/william/.local/lib/python3.8/site-packages/torch/cuda/__init__.py:52: UserWarning: CUDA initialization: Found no NVIDIA driver on your system. Please check that you have an NVIDIA GPU and installed a driver from http://www.nvidia.com/Download/index.aspx (Triggered internally at  /pytorch/c10/cuda/CUDAFunctions.cpp:100.)\n  return torch._C._cuda_getDeviceCount() > 0\n"
     ]
    }
   ],
   "source": [
    "import torch\n",
    "import torch.nn as nn\n",
    "import torch.nn.functional as F\n",
    "\n",
    "from torch.utils.data import DataLoader\n",
    "from torchvision import datasets as dt, transforms\n",
    "\n",
    "import helpers.NNUtils as nnu"
   ]
  },
  {
   "cell_type": "code",
   "execution_count": 2,
   "metadata": {},
   "outputs": [],
   "source": [
    "device = 'cuda' if torch.cuda.is_available() else 'cpu'\n",
    "torch.manual_seed(1976);"
   ]
  },
  {
   "cell_type": "markdown",
   "metadata": {},
   "source": [
    "#### Import data"
   ]
  },
  {
   "cell_type": "code",
   "execution_count": 3,
   "metadata": {},
   "outputs": [],
   "source": [
    "train_dataset, test_dataset, val_dataset = nnu.loadMNISTDatasets()\n",
    "train_loader, test_loader, val_loader = nnu.getMNISTLoaders([train_dataset, test_dataset, val_dataset],batch_size=10)"
   ]
  },
  {
   "cell_type": "markdown",
   "metadata": {},
   "source": [
    "#### Define & train the model"
   ]
  },
  {
   "cell_type": "code",
   "execution_count": 4,
   "metadata": {},
   "outputs": [],
   "source": [
    "from Models import MLPOne\n",
    "\n",
    "model = MLPOne().to(device)\n",
    "optimizer = nnu.getSGDOptim(model, lr=0.05)\n",
    "loss_fn = F.cross_entropy"
   ]
  },
  {
   "cell_type": "code",
   "execution_count": 5,
   "metadata": {
    "scrolled": true
   },
   "outputs": [
    {
     "output_type": "stream",
     "name": "stdout",
     "text": [
      "Train Epoch: 0 \tLoss: 0.871408 \tTest Loss: 0.006239\n",
      "Train Epoch: 1 \tLoss: 0.048799 \tTest Loss: 0.002566\n",
      "Train Epoch: 2 \tLoss: 0.011952 \tTest Loss: 0.000291\n",
      "Train Epoch: 3 \tLoss: 0.036717 \tTest Loss: 0.003791\n",
      "Train Epoch: 4 \tLoss: 0.000802 \tTest Loss: 0.000353\n",
      "Train Epoch: 5 \tLoss: 0.001149 \tTest Loss: 0.002210\n",
      "Train Epoch: 6 \tLoss: 0.001140 \tTest Loss: 0.004496\n",
      "Train Epoch: 7 \tLoss: 0.005355 \tTest Loss: 0.013267\n",
      "Train Epoch: 8 \tLoss: 0.000311 \tTest Loss: 0.000044\n",
      "Train Epoch: 9 \tLoss: 0.004686 \tTest Loss: 0.447772\n"
     ]
    }
   ],
   "source": [
    "nnu.fit(10, model, loss_fn, optimizer, train_loader, test_loader)"
   ]
  },
  {
   "cell_type": "code",
   "execution_count": 6,
   "metadata": {
    "tags": []
   },
   "outputs": [
    {
     "output_type": "stream",
     "name": "stdout",
     "text": [
      "\nTest set: Avg. loss: 0.0072, Accuracy: 0.9821666666666666 (98.2%)\n\n"
     ]
    }
   ],
   "source": [
    "nnu.test(model, loss_fn, test_loader)"
   ]
  },
  {
   "cell_type": "code",
   "execution_count": 7,
   "metadata": {},
   "outputs": [],
   "source": [
    "import helpers.NNUtils as nnu\n",
    "nnu.saveModel(model, \"simpleMLP\")"
   ]
  },
  {
   "cell_type": "code",
   "execution_count": 8,
   "metadata": {
    "tags": []
   },
   "outputs": [
    {
     "output_type": "stream",
     "name": "stdout",
     "text": [
      "\nTest set: Avg. loss: 0.0070, Accuracy: 0.9827 (98.3%)\n\n"
     ]
    }
   ],
   "source": [
    "nnu.test(model, loss_fn, val_loader)"
   ]
  },
  {
   "cell_type": "markdown",
   "metadata": {},
   "source": [
    "#### Simple Model"
   ]
  },
  {
   "cell_type": "code",
   "execution_count": 9,
   "metadata": {},
   "outputs": [],
   "source": [
    "class MLPSimple(nn.Module):\n",
    "    def __init__(self):\n",
    "        super().__init__()\n",
    "        self.fc = nn.Linear(784, 10)\n",
    "\n",
    "    def forward(self, x):\n",
    "        x = x.view(-1, 28*28)\n",
    "        return self.fc(x)"
   ]
  },
  {
   "cell_type": "code",
   "execution_count": 10,
   "metadata": {},
   "outputs": [],
   "source": [
    "model = MLPSimple().to(device)\n",
    "optimizer = nnu.getSGDOptim(model, lr=0.05)\n",
    "loss_fn = F.cross_entropy"
   ]
  },
  {
   "cell_type": "code",
   "execution_count": 11,
   "metadata": {},
   "outputs": [
    {
     "output_type": "stream",
     "name": "stdout",
     "text": [
      "Train Epoch: 0 \tLoss: 0.300913 \tTest Loss: 0.396375\n",
      "Train Epoch: 1 \tLoss: 0.323779 \tTest Loss: 0.362297\n"
     ]
    }
   ],
   "source": [
    "nnu.fit(2, model, loss_fn, optimizer, train_loader, test_loader)"
   ]
  },
  {
   "cell_type": "code",
   "execution_count": 12,
   "metadata": {},
   "outputs": [
    {
     "output_type": "stream",
     "name": "stdout",
     "text": [
      "\nTest set: Avg. loss: 0.0466, Accuracy: 0.893 (89.3%)\n\n"
     ]
    }
   ],
   "source": [
    "nnu.test(model, loss_fn, val_loader)"
   ]
  }
 ],
 "metadata": {
  "kernelspec": {
   "display_name": "Python 3",
   "language": "python",
   "name": "python3"
  },
  "language_info": {
   "codemirror_mode": {
    "name": "ipython",
    "version": 3
   },
   "file_extension": ".py",
   "mimetype": "text/x-python",
   "name": "python",
   "nbconvert_exporter": "python",
   "pygments_lexer": "ipython3",
   "version": "3.8.5-final"
  }
 },
 "nbformat": 4,
 "nbformat_minor": 5
}